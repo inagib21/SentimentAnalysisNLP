{
 "cells": [
  {
   "cell_type": "code",
   "execution_count": 1,
   "id": "024b814e",
   "metadata": {},
   "outputs": [],
   "source": [
    "#importing libraries\n",
    "import numpy as np \n",
    "import pandas as pd\n",
    "import seaborn as sns\n",
    "import matplotlib.pyplot as plt\n",
    "%matplotlib inline\n",
    "sns.set_style('darkgrid')\n",
    " "
   ]
  },
  {
   "cell_type": "code",
   "execution_count": 2,
   "id": "26671c88",
   "metadata": {},
   "outputs": [],
   "source": [
    "#getting the data\n",
    "df = pd.read_csv('Tweet.csv', encoding='ISO-8859-1')"
   ]
  },
  {
   "cell_type": "code",
   "execution_count": 3,
   "id": "7b3f8fde",
   "metadata": {
    "scrolled": false
   },
   "outputs": [
    {
     "data": {
      "text/html": [
       "<div>\n",
       "<style scoped>\n",
       "    .dataframe tbody tr th:only-of-type {\n",
       "        vertical-align: middle;\n",
       "    }\n",
       "\n",
       "    .dataframe tbody tr th {\n",
       "        vertical-align: top;\n",
       "    }\n",
       "\n",
       "    .dataframe thead th {\n",
       "        text-align: right;\n",
       "    }\n",
       "</style>\n",
       "<table border=\"1\" class=\"dataframe\">\n",
       "  <thead>\n",
       "    <tr style=\"text-align: right;\">\n",
       "      <th></th>\n",
       "      <th>tweet_text</th>\n",
       "      <th>emotion_in_tweet_is_directed_at</th>\n",
       "      <th>is_there_an_emotion_directed_at_a_brand_or_product</th>\n",
       "    </tr>\n",
       "  </thead>\n",
       "  <tbody>\n",
       "    <tr>\n",
       "      <th>0</th>\n",
       "      <td>.@wesley83 I have a 3G iPhone. After 3 hrs twe...</td>\n",
       "      <td>iPhone</td>\n",
       "      <td>Negative emotion</td>\n",
       "    </tr>\n",
       "    <tr>\n",
       "      <th>1</th>\n",
       "      <td>@jessedee Know about @fludapp ? Awesome iPad/i...</td>\n",
       "      <td>iPad or iPhone App</td>\n",
       "      <td>Positive emotion</td>\n",
       "    </tr>\n",
       "    <tr>\n",
       "      <th>2</th>\n",
       "      <td>@swonderlin Can not wait for #iPad 2 also. The...</td>\n",
       "      <td>iPad</td>\n",
       "      <td>Positive emotion</td>\n",
       "    </tr>\n",
       "    <tr>\n",
       "      <th>3</th>\n",
       "      <td>@sxsw I hope this year's festival isn't as cra...</td>\n",
       "      <td>iPad or iPhone App</td>\n",
       "      <td>Negative emotion</td>\n",
       "    </tr>\n",
       "    <tr>\n",
       "      <th>4</th>\n",
       "      <td>@sxtxstate great stuff on Fri #SXSW: Marissa M...</td>\n",
       "      <td>Google</td>\n",
       "      <td>Positive emotion</td>\n",
       "    </tr>\n",
       "  </tbody>\n",
       "</table>\n",
       "</div>"
      ],
      "text/plain": [
       "                                          tweet_text  \\\n",
       "0  .@wesley83 I have a 3G iPhone. After 3 hrs twe...   \n",
       "1  @jessedee Know about @fludapp ? Awesome iPad/i...   \n",
       "2  @swonderlin Can not wait for #iPad 2 also. The...   \n",
       "3  @sxsw I hope this year's festival isn't as cra...   \n",
       "4  @sxtxstate great stuff on Fri #SXSW: Marissa M...   \n",
       "\n",
       "  emotion_in_tweet_is_directed_at  \\\n",
       "0                          iPhone   \n",
       "1              iPad or iPhone App   \n",
       "2                            iPad   \n",
       "3              iPad or iPhone App   \n",
       "4                          Google   \n",
       "\n",
       "  is_there_an_emotion_directed_at_a_brand_or_product  \n",
       "0                                   Negative emotion  \n",
       "1                                   Positive emotion  \n",
       "2                                   Positive emotion  \n",
       "3                                   Negative emotion  \n",
       "4                                   Positive emotion  "
      ]
     },
     "execution_count": 3,
     "metadata": {},
     "output_type": "execute_result"
    }
   ],
   "source": [
    "#Viewing our data frame\n",
    "df.head()"
   ]
  },
  {
   "cell_type": "markdown",
   "id": "5a90a9f5",
   "metadata": {},
   "source": [
    "Lets Rename our columns to "
   ]
  },
  {
   "cell_type": "code",
   "execution_count": 4,
   "id": "0e284343",
   "metadata": {},
   "outputs": [
    {
     "data": {
      "text/html": [
       "<div>\n",
       "<style scoped>\n",
       "    .dataframe tbody tr th:only-of-type {\n",
       "        vertical-align: middle;\n",
       "    }\n",
       "\n",
       "    .dataframe tbody tr th {\n",
       "        vertical-align: top;\n",
       "    }\n",
       "\n",
       "    .dataframe thead th {\n",
       "        text-align: right;\n",
       "    }\n",
       "</style>\n",
       "<table border=\"1\" class=\"dataframe\">\n",
       "  <thead>\n",
       "    <tr style=\"text-align: right;\">\n",
       "      <th></th>\n",
       "      <th>Tweet</th>\n",
       "      <th>Product/Brand</th>\n",
       "      <th>Emotion</th>\n",
       "    </tr>\n",
       "  </thead>\n",
       "  <tbody>\n",
       "    <tr>\n",
       "      <th>0</th>\n",
       "      <td>.@wesley83 I have a 3G iPhone. After 3 hrs twe...</td>\n",
       "      <td>iPhone</td>\n",
       "      <td>Negative emotion</td>\n",
       "    </tr>\n",
       "    <tr>\n",
       "      <th>1</th>\n",
       "      <td>@jessedee Know about @fludapp ? Awesome iPad/i...</td>\n",
       "      <td>iPad or iPhone App</td>\n",
       "      <td>Positive emotion</td>\n",
       "    </tr>\n",
       "    <tr>\n",
       "      <th>2</th>\n",
       "      <td>@swonderlin Can not wait for #iPad 2 also. The...</td>\n",
       "      <td>iPad</td>\n",
       "      <td>Positive emotion</td>\n",
       "    </tr>\n",
       "    <tr>\n",
       "      <th>3</th>\n",
       "      <td>@sxsw I hope this year's festival isn't as cra...</td>\n",
       "      <td>iPad or iPhone App</td>\n",
       "      <td>Negative emotion</td>\n",
       "    </tr>\n",
       "    <tr>\n",
       "      <th>4</th>\n",
       "      <td>@sxtxstate great stuff on Fri #SXSW: Marissa M...</td>\n",
       "      <td>Google</td>\n",
       "      <td>Positive emotion</td>\n",
       "    </tr>\n",
       "  </tbody>\n",
       "</table>\n",
       "</div>"
      ],
      "text/plain": [
       "                                               Tweet       Product/Brand  \\\n",
       "0  .@wesley83 I have a 3G iPhone. After 3 hrs twe...              iPhone   \n",
       "1  @jessedee Know about @fludapp ? Awesome iPad/i...  iPad or iPhone App   \n",
       "2  @swonderlin Can not wait for #iPad 2 also. The...                iPad   \n",
       "3  @sxsw I hope this year's festival isn't as cra...  iPad or iPhone App   \n",
       "4  @sxtxstate great stuff on Fri #SXSW: Marissa M...              Google   \n",
       "\n",
       "            Emotion  \n",
       "0  Negative emotion  \n",
       "1  Positive emotion  \n",
       "2  Positive emotion  \n",
       "3  Negative emotion  \n",
       "4  Positive emotion  "
      ]
     },
     "execution_count": 4,
     "metadata": {},
     "output_type": "execute_result"
    }
   ],
   "source": [
    "#Renaming columns\n",
    "df.columns = ['Tweet', 'Product/Brand', 'Emotion']\n",
    "df.head()"
   ]
  },
  {
   "cell_type": "code",
   "execution_count": 5,
   "id": "8d3a9d2b",
   "metadata": {
    "scrolled": true
   },
   "outputs": [
    {
     "data": {
      "text/plain": [
       "(9093, 3)"
      ]
     },
     "execution_count": 5,
     "metadata": {},
     "output_type": "execute_result"
    }
   ],
   "source": [
    "#Viewing shape of our data\n",
    "df.shape"
   ]
  },
  {
   "cell_type": "code",
   "execution_count": 6,
   "id": "07667948",
   "metadata": {},
   "outputs": [
    {
     "name": "stdout",
     "output_type": "stream",
     "text": [
      "<class 'pandas.core.frame.DataFrame'>\n",
      "RangeIndex: 9093 entries, 0 to 9092\n",
      "Data columns (total 3 columns):\n",
      " #   Column         Non-Null Count  Dtype \n",
      "---  ------         --------------  ----- \n",
      " 0   Tweet          9092 non-null   object\n",
      " 1   Product/Brand  3291 non-null   object\n",
      " 2   Emotion        9093 non-null   object\n",
      "dtypes: object(3)\n",
      "memory usage: 213.2+ KB\n"
     ]
    }
   ],
   "source": [
    "df.info()"
   ]
  },
  {
   "cell_type": "code",
   "execution_count": 7,
   "id": "15b3e4b3",
   "metadata": {},
   "outputs": [
    {
     "data": {
      "text/plain": [
       "array(['Negative emotion', 'Positive emotion',\n",
       "       'No emotion toward brand or product', \"I can't tell\"], dtype=object)"
      ]
     },
     "execution_count": 7,
     "metadata": {},
     "output_type": "execute_result"
    }
   ],
   "source": [
    "df['Emotion'].unique()"
   ]
  },
  {
   "cell_type": "code",
   "execution_count": 8,
   "id": "95d82199",
   "metadata": {},
   "outputs": [
    {
     "data": {
      "text/plain": [
       "array(['iPhone', 'iPad or iPhone App', 'iPad', 'Google', nan, 'Android',\n",
       "       'Apple', 'Android App', 'Other Google product or service',\n",
       "       'Other Apple product or service'], dtype=object)"
      ]
     },
     "execution_count": 8,
     "metadata": {},
     "output_type": "execute_result"
    }
   ],
   "source": [
    "df['Product/Brand'].unique()"
   ]
  },
  {
   "cell_type": "markdown",
   "id": "88d70246",
   "metadata": {},
   "source": [
    "the column : 'Product/Brand' seems to have about 6,0000 missing values. The 'Tweet' column also seems to have 1 missing value. for now lets just drop the missing tweet. Also lets inspect the Tweets that are missing values in the Producct/Brand column.  To handle the missing data in the 'emotion_in_tweet_is_directed_at' columm we will be using the KNNImputer"
   ]
  },
  {
   "cell_type": "code",
   "execution_count": 9,
   "id": "6def3236",
   "metadata": {},
   "outputs": [],
   "source": [
    "#Dropping Missing Tweet\n",
    "df.dropna(subset=['Tweet'], inplace=True)"
   ]
  },
  {
   "cell_type": "code",
   "execution_count": 10,
   "id": "a26e92e9",
   "metadata": {},
   "outputs": [
    {
     "data": {
      "text/html": [
       "<div>\n",
       "<style scoped>\n",
       "    .dataframe tbody tr th:only-of-type {\n",
       "        vertical-align: middle;\n",
       "    }\n",
       "\n",
       "    .dataframe tbody tr th {\n",
       "        vertical-align: top;\n",
       "    }\n",
       "\n",
       "    .dataframe thead th {\n",
       "        text-align: right;\n",
       "    }\n",
       "</style>\n",
       "<table border=\"1\" class=\"dataframe\">\n",
       "  <thead>\n",
       "    <tr style=\"text-align: right;\">\n",
       "      <th></th>\n",
       "      <th>Tweet</th>\n",
       "      <th>Product/Brand</th>\n",
       "      <th>Emotion</th>\n",
       "    </tr>\n",
       "  </thead>\n",
       "  <tbody>\n",
       "    <tr>\n",
       "      <th>5</th>\n",
       "      <td>@teachntech00 New iPad Apps For #SpeechTherapy...</td>\n",
       "      <td>NaN</td>\n",
       "      <td>No emotion toward brand or product</td>\n",
       "    </tr>\n",
       "    <tr>\n",
       "      <th>16</th>\n",
       "      <td>Holler Gram for iPad on the iTunes App Store -...</td>\n",
       "      <td>NaN</td>\n",
       "      <td>No emotion toward brand or product</td>\n",
       "    </tr>\n",
       "    <tr>\n",
       "      <th>32</th>\n",
       "      <td>Attn: All  #SXSW frineds, @mention Register fo...</td>\n",
       "      <td>NaN</td>\n",
       "      <td>No emotion toward brand or product</td>\n",
       "    </tr>\n",
       "    <tr>\n",
       "      <th>33</th>\n",
       "      <td>Anyone at  #sxsw want to sell their old iPad?</td>\n",
       "      <td>NaN</td>\n",
       "      <td>No emotion toward brand or product</td>\n",
       "    </tr>\n",
       "    <tr>\n",
       "      <th>34</th>\n",
       "      <td>Anyone at  #SXSW who bought the new iPad want ...</td>\n",
       "      <td>NaN</td>\n",
       "      <td>No emotion toward brand or product</td>\n",
       "    </tr>\n",
       "    <tr>\n",
       "      <th>35</th>\n",
       "      <td>At #sxsw.  Oooh. RT @mention Google to Launch ...</td>\n",
       "      <td>NaN</td>\n",
       "      <td>No emotion toward brand or product</td>\n",
       "    </tr>\n",
       "    <tr>\n",
       "      <th>37</th>\n",
       "      <td>SPIN Play - a new concept in music discovery f...</td>\n",
       "      <td>NaN</td>\n",
       "      <td>No emotion toward brand or product</td>\n",
       "    </tr>\n",
       "    <tr>\n",
       "      <th>39</th>\n",
       "      <td>VatorNews - Google And Apple Force Print Media...</td>\n",
       "      <td>NaN</td>\n",
       "      <td>No emotion toward brand or product</td>\n",
       "    </tr>\n",
       "    <tr>\n",
       "      <th>41</th>\n",
       "      <td>HootSuite - HootSuite Mobile for #SXSW ~ Updat...</td>\n",
       "      <td>NaN</td>\n",
       "      <td>No emotion toward brand or product</td>\n",
       "    </tr>\n",
       "    <tr>\n",
       "      <th>42</th>\n",
       "      <td>Hey #SXSW - How long do you think it takes us ...</td>\n",
       "      <td>NaN</td>\n",
       "      <td>No emotion toward brand or product</td>\n",
       "    </tr>\n",
       "    <tr>\n",
       "      <th>43</th>\n",
       "      <td>Mashable! - The iPad 2 Takes Over SXSW [VIDEO]...</td>\n",
       "      <td>NaN</td>\n",
       "      <td>No emotion toward brand or product</td>\n",
       "    </tr>\n",
       "    <tr>\n",
       "      <th>44</th>\n",
       "      <td>For I-Pad ?RT @mention New #UberSocial for #iP...</td>\n",
       "      <td>NaN</td>\n",
       "      <td>No emotion toward brand or product</td>\n",
       "    </tr>\n",
       "    <tr>\n",
       "      <th>46</th>\n",
       "      <td>Hand-Held Û÷HoboÛª: Drafthouse launches Û÷H...</td>\n",
       "      <td>NaN</td>\n",
       "      <td>Positive emotion</td>\n",
       "    </tr>\n",
       "    <tr>\n",
       "      <th>48</th>\n",
       "      <td>Orly....? ÛÏ@mention Google set to launch new...</td>\n",
       "      <td>NaN</td>\n",
       "      <td>No emotion toward brand or product</td>\n",
       "    </tr>\n",
       "    <tr>\n",
       "      <th>50</th>\n",
       "      <td>Khoi Vinh (@mention says Conde Nast's headlong...</td>\n",
       "      <td>NaN</td>\n",
       "      <td>No emotion toward brand or product</td>\n",
       "    </tr>\n",
       "    <tr>\n",
       "      <th>51</th>\n",
       "      <td>ÛÏ@mention {link} &amp;lt;-- HELP ME FORWARD THIS...</td>\n",
       "      <td>NaN</td>\n",
       "      <td>No emotion toward brand or product</td>\n",
       "    </tr>\n",
       "    <tr>\n",
       "      <th>52</th>\n",
       "      <td>÷¼ WHAT? ÷_ {link} ã_ #edchat #musedchat #s...</td>\n",
       "      <td>NaN</td>\n",
       "      <td>No emotion toward brand or product</td>\n",
       "    </tr>\n",
       "    <tr>\n",
       "      <th>53</th>\n",
       "      <td>.@mention @mention on the location-based 'fast...</td>\n",
       "      <td>NaN</td>\n",
       "      <td>No emotion toward brand or product</td>\n",
       "    </tr>\n",
       "    <tr>\n",
       "      <th>54</th>\n",
       "      <td>ÛÏ@mention @mention #Google Will Connect the ...</td>\n",
       "      <td>NaN</td>\n",
       "      <td>No emotion toward brand or product</td>\n",
       "    </tr>\n",
       "    <tr>\n",
       "      <th>56</th>\n",
       "      <td>{link} RT @mention &amp;quot;Google before you twe...</td>\n",
       "      <td>NaN</td>\n",
       "      <td>No emotion toward brand or product</td>\n",
       "    </tr>\n",
       "  </tbody>\n",
       "</table>\n",
       "</div>"
      ],
      "text/plain": [
       "                                                Tweet Product/Brand  \\\n",
       "5   @teachntech00 New iPad Apps For #SpeechTherapy...           NaN   \n",
       "16  Holler Gram for iPad on the iTunes App Store -...           NaN   \n",
       "32  Attn: All  #SXSW frineds, @mention Register fo...           NaN   \n",
       "33      Anyone at  #sxsw want to sell their old iPad?           NaN   \n",
       "34  Anyone at  #SXSW who bought the new iPad want ...           NaN   \n",
       "35  At #sxsw.  Oooh. RT @mention Google to Launch ...           NaN   \n",
       "37  SPIN Play - a new concept in music discovery f...           NaN   \n",
       "39  VatorNews - Google And Apple Force Print Media...           NaN   \n",
       "41  HootSuite - HootSuite Mobile for #SXSW ~ Updat...           NaN   \n",
       "42  Hey #SXSW - How long do you think it takes us ...           NaN   \n",
       "43  Mashable! - The iPad 2 Takes Over SXSW [VIDEO]...           NaN   \n",
       "44  For I-Pad ?RT @mention New #UberSocial for #iP...           NaN   \n",
       "46  Hand-Held Û÷HoboÛª: Drafthouse launches Û÷H...           NaN   \n",
       "48  Orly....? ÛÏ@mention Google set to launch new...           NaN   \n",
       "50  Khoi Vinh (@mention says Conde Nast's headlong...           NaN   \n",
       "51  ÛÏ@mention {link} &lt;-- HELP ME FORWARD THIS...           NaN   \n",
       "52  ÷¼ WHAT? ÷_ {link} ã_ #edchat #musedchat #s...           NaN   \n",
       "53  .@mention @mention on the location-based 'fast...           NaN   \n",
       "54  ÛÏ@mention @mention #Google Will Connect the ...           NaN   \n",
       "56  {link} RT @mention &quot;Google before you twe...           NaN   \n",
       "\n",
       "                               Emotion  \n",
       "5   No emotion toward brand or product  \n",
       "16  No emotion toward brand or product  \n",
       "32  No emotion toward brand or product  \n",
       "33  No emotion toward brand or product  \n",
       "34  No emotion toward brand or product  \n",
       "35  No emotion toward brand or product  \n",
       "37  No emotion toward brand or product  \n",
       "39  No emotion toward brand or product  \n",
       "41  No emotion toward brand or product  \n",
       "42  No emotion toward brand or product  \n",
       "43  No emotion toward brand or product  \n",
       "44  No emotion toward brand or product  \n",
       "46                    Positive emotion  \n",
       "48  No emotion toward brand or product  \n",
       "50  No emotion toward brand or product  \n",
       "51  No emotion toward brand or product  \n",
       "52  No emotion toward brand or product  \n",
       "53  No emotion toward brand or product  \n",
       "54  No emotion toward brand or product  \n",
       "56  No emotion toward brand or product  "
      ]
     },
     "execution_count": 10,
     "metadata": {},
     "output_type": "execute_result"
    }
   ],
   "source": [
    "# Inspecting Missing Products\n",
    "df[df['Product/Brand'].isna()].head(20)"
   ]
  },
  {
   "cell_type": "code",
   "execution_count": 11,
   "id": "e50c6f2c",
   "metadata": {
    "scrolled": true
   },
   "outputs": [],
   "source": [
    "#converting to String\n",
    "df['Tweet'] = df['Tweet'].apply(lambda x: str(x))\n",
    "df['Product/Brand'] = df['Product/Brand'].astype(str)\n"
   ]
  },
  {
   "cell_type": "code",
   "execution_count": 12,
   "id": "c596002b",
   "metadata": {},
   "outputs": [],
   "source": [
    "# Brand name mapping\n",
    "brand = {'iPhone': 'apple',\n",
    "         'iPad or iPhone App':'apple',\n",
    "         'iPad': 'apple',\n",
    "         'Google': 'google',\n",
    "         'nan': 'UNK',\n",
    "         'Android':'google',\n",
    "         'Apple': 'apple',\n",
    "         'Android App':'google',\n",
    "         'Other Google product or service':'google',\n",
    "         'Other Apple product or service':'apple'\n",
    "        }\n",
    "df['Brand'] = df['Product/Brand'].map(brand)"
   ]
  },
  {
   "cell_type": "code",
   "execution_count": 13,
   "id": "43fa3f4b",
   "metadata": {},
   "outputs": [],
   "source": [
    "# Encoding class label to brief\n",
    "label_encoder = {'Negative emotion': 'negative',\n",
    "                 'Positive emotion': 'positive',\n",
    "                 'No emotion toward brand or product': 'neutral',\n",
    "                 \"I can't tell\":'confused'}\n",
    "\n",
    "df['Emotion'] = df['Emotion'].map(label_encoder)\n",
    "# drop the rows containing 'confused' labels\n",
    "df = df[df['Emotion'] != 'confused']\n",
    "   "
   ]
  },
  {
   "cell_type": "code",
   "execution_count": 14,
   "id": "02b9f3e9",
   "metadata": {},
   "outputs": [
    {
     "data": {
      "text/plain": [
       "(8936, 4)"
      ]
     },
     "execution_count": 14,
     "metadata": {},
     "output_type": "execute_result"
    }
   ],
   "source": [
    "df.shape"
   ]
  },
  {
   "cell_type": "code",
   "execution_count": null,
   "id": "c9ca5372",
   "metadata": {},
   "outputs": [],
   "source": []
  },
  {
   "cell_type": "code",
   "execution_count": 15,
   "id": "6f862cfb",
   "metadata": {},
   "outputs": [],
   "source": [
    "#Dropping Product/Brand Column\n",
    "df.drop(columns='Product/Brand',inplace=True)"
   ]
  },
  {
   "cell_type": "code",
   "execution_count": 16,
   "id": "0b37dbf3",
   "metadata": {},
   "outputs": [
    {
     "data": {
      "text/html": [
       "<div>\n",
       "<style scoped>\n",
       "    .dataframe tbody tr th:only-of-type {\n",
       "        vertical-align: middle;\n",
       "    }\n",
       "\n",
       "    .dataframe tbody tr th {\n",
       "        vertical-align: top;\n",
       "    }\n",
       "\n",
       "    .dataframe thead th {\n",
       "        text-align: right;\n",
       "    }\n",
       "</style>\n",
       "<table border=\"1\" class=\"dataframe\">\n",
       "  <thead>\n",
       "    <tr style=\"text-align: right;\">\n",
       "      <th></th>\n",
       "      <th>Tweet</th>\n",
       "      <th>Emotion</th>\n",
       "      <th>Brand</th>\n",
       "    </tr>\n",
       "  </thead>\n",
       "  <tbody>\n",
       "    <tr>\n",
       "      <th>0</th>\n",
       "      <td>.@wesley83 I have a 3G iPhone. After 3 hrs twe...</td>\n",
       "      <td>negative</td>\n",
       "      <td>apple</td>\n",
       "    </tr>\n",
       "    <tr>\n",
       "      <th>1</th>\n",
       "      <td>@jessedee Know about @fludapp ? Awesome iPad/i...</td>\n",
       "      <td>positive</td>\n",
       "      <td>apple</td>\n",
       "    </tr>\n",
       "    <tr>\n",
       "      <th>2</th>\n",
       "      <td>@swonderlin Can not wait for #iPad 2 also. The...</td>\n",
       "      <td>positive</td>\n",
       "      <td>apple</td>\n",
       "    </tr>\n",
       "    <tr>\n",
       "      <th>3</th>\n",
       "      <td>@sxsw I hope this year's festival isn't as cra...</td>\n",
       "      <td>negative</td>\n",
       "      <td>apple</td>\n",
       "    </tr>\n",
       "    <tr>\n",
       "      <th>4</th>\n",
       "      <td>@sxtxstate great stuff on Fri #SXSW: Marissa M...</td>\n",
       "      <td>positive</td>\n",
       "      <td>google</td>\n",
       "    </tr>\n",
       "  </tbody>\n",
       "</table>\n",
       "</div>"
      ],
      "text/plain": [
       "                                               Tweet   Emotion   Brand\n",
       "0  .@wesley83 I have a 3G iPhone. After 3 hrs twe...  negative   apple\n",
       "1  @jessedee Know about @fludapp ? Awesome iPad/i...  positive   apple\n",
       "2  @swonderlin Can not wait for #iPad 2 also. The...  positive   apple\n",
       "3  @sxsw I hope this year's festival isn't as cra...  negative   apple\n",
       "4  @sxtxstate great stuff on Fri #SXSW: Marissa M...  positive  google"
      ]
     },
     "execution_count": 16,
     "metadata": {},
     "output_type": "execute_result"
    }
   ],
   "source": [
    "df.head()"
   ]
  },
  {
   "cell_type": "code",
   "execution_count": 17,
   "id": "6d6f10fa",
   "metadata": {},
   "outputs": [
    {
     "name": "stdout",
     "output_type": "stream",
     "text": [
      "<class 'pandas.core.frame.DataFrame'>\n",
      "Int64Index: 8936 entries, 0 to 9092\n",
      "Data columns (total 3 columns):\n",
      " #   Column   Non-Null Count  Dtype \n",
      "---  ------   --------------  ----- \n",
      " 0   Tweet    8936 non-null   object\n",
      " 1   Emotion  8936 non-null   object\n",
      " 2   Brand    8936 non-null   object\n",
      "dtypes: object(3)\n",
      "memory usage: 279.2+ KB\n"
     ]
    }
   ],
   "source": [
    "#checking the info\n",
    "df.info()"
   ]
  },
  {
   "cell_type": "code",
   "execution_count": 18,
   "id": "c787401c",
   "metadata": {},
   "outputs": [
    {
     "data": {
      "image/png": "[encoded data removed]",
      "text/plain": [
       "<Figure size 864x432 with 1 Axes>"
      ]
     },
     "metadata": {},
     "output_type": "display_data"
    }
   ],
   "source": [
    "fig =  plt.figure(figsize=(12,6))\n",
    "sns.countplot(x='Emotion', data=df,  \n",
    "              palette={'positive':'b', 'negative':'r', 'neutral':'g'}, alpha=0.7)\n",
    "plt.xlabel('Emotion', fontsize=15)\n",
    "plt.ylabel('Count', fontsize=15);"
   ]
  },
  {
   "cell_type": "code",
   "execution_count": null,
   "id": "c161fc9f",
   "metadata": {},
   "outputs": [],
   "source": []
  },
  {
   "cell_type": "code",
   "execution_count": 19,
   "id": "d4bc1c71",
   "metadata": {},
   "outputs": [
    {
     "data": {
      "image/png": "[encoded data removed]",
      "text/plain": [
       "<Figure size 864x432 with 1 Axes>"
      ]
     },
     "metadata": {},
     "output_type": "display_data"
    }
   ],
   "source": [
    "fig =  plt.figure(figsize=(12,6))\n",
    "sns.countplot(x='Brand', data=df, alpha=0.7)\n",
    "plt.xlabel('Brand', fontsize=15)\n",
    "plt.ylabel('Count', fontsize=15);"
   ]
  },
  {
   "cell_type": "code",
   "execution_count": 20,
   "id": "5ee7a4da",
   "metadata": {
    "scrolled": true
   },
   "outputs": [
    {
     "data": {
      "image/png": "[encoded data removed]",
      "text/plain": [
       "<Figure size 864x432 with 1 Axes>"
      ]
     },
     "metadata": {},
     "output_type": "display_data"
    }
   ],
   "source": [
    "plt.figure(figsize=(12,6))\n",
    "ax = sns.countplot(data=df, x = 'Emotion', hue='Brand')"
   ]
  },
  {
   "cell_type": "markdown",
   "id": "292b3794",
   "metadata": {},
   "source": [
    "This function below takes in a pandas dataframe (df) and a dictionary mapping brand names to categories (brand). For each row in the dataframe, the function checks if the 'Brand' column is labeled as 'UNK' (unknown). If it is, the function extracts the text from the 'Tweet' column and checks if it contains any of the brand names in the dictionary. If a match is found, the function updates the 'Brand' column with the mapped category value and moves on to the next row. If no match is found or if both brands are found, the 'Brand' column remains labeled as 'UNK'. Finally, the function returns the updated dataframe."
   ]
  },
  {
   "cell_type": "code",
   "execution_count": 21,
   "id": "7f491f6c",
   "metadata": {},
   "outputs": [],
   "source": [
    "def reduce_unknown_brands(df, brand):\n",
    "    # Iterate through each row in the dataframe\n",
    "    for i in df.index:\n",
    "        # Check if the 'Brand' column is labeled 'UNK'\n",
    "        if df.at[i, 'Brand'] == 'UNK':\n",
    "            # Extract the text from the 'Tweet' column\n",
    "            text = df.at[i, 'Tweet']\n",
    "            # Initialize variables for both Apple and Google\n",
    "            apple_present = False\n",
    "            google_present = False\n",
    "            # Iterate through the brand dictionary\n",
    "            for key, val in brand.items():\n",
    "                # Check if the brand name (key) is present in the text (case-insensitive)\n",
    "                if key.lower() == \"apple\" and key.lower() in text.lower():\n",
    "                    apple_present = True\n",
    "                elif key.lower() == \"google\" and key.lower() in text.lower():\n",
    "                    google_present = True\n",
    "            # Update the 'Brand' column with the appropriate value based on which brand is present in the tweet text\n",
    "            if apple_present and not google_present:\n",
    "                df.at[i, 'Brand'] = brand['Apple']\n",
    "            elif google_present and not apple_present:\n",
    "                df.at[i, 'Brand'] = brand['Google']\n",
    "            else:\n",
    "                df.at[i, 'Brand'] = 'UNK'\n",
    "    # Return the updated dataframe\n",
    "    return df\n",
    "\n"
   ]
  },
  {
   "cell_type": "code",
   "execution_count": 22,
   "id": "40f58910",
   "metadata": {},
   "outputs": [],
   "source": [
    "new_df = reduce_unknown_brands(df, brand)\n"
   ]
  },
  {
   "cell_type": "code",
   "execution_count": 23,
   "id": "d7c04dfe",
   "metadata": {},
   "outputs": [
    {
     "data": {
      "image/png": "[encoded data removed]",
      "text/plain": [
       "<Figure size 864x432 with 1 Axes>"
      ]
     },
     "metadata": {},
     "output_type": "display_data"
    }
   ],
   "source": [
    "fig =  plt.figure(figsize=(12,6))\n",
    "sns.countplot(x='Brand', data=new_df, alpha=0.7)\n",
    "plt.xlabel('Brand', fontsize=15)\n",
    "plt.ylabel('Count', fontsize=15);"
   ]
  },
  {
   "cell_type": "code",
   "execution_count": 24,
   "id": "14f2bc83",
   "metadata": {
    "scrolled": true
   },
   "outputs": [
    {
     "data": {
      "image/png": "[encoded data removed]",
      "text/plain": [
       "<Figure size 864x432 with 1 Axes>"
      ]
     },
     "metadata": {},
     "output_type": "display_data"
    }
   ],
   "source": [
    "plt.figure(figsize=(12,6))\n",
    "ax = sns.countplot(data=new_df, x = 'Emotion', hue='Brand')"
   ]
  },
  {
   "cell_type": "markdown",
   "id": "751b185f",
   "metadata": {},
   "source": [
    "We can see the difference that our function made and now most of our tweets belong to the apple brand as opposed to being Unknown. "
   ]
  },
  {
   "cell_type": "code",
   "execution_count": null,
   "id": "1a14363a",
   "metadata": {},
   "outputs": [],
   "source": []
  },
  {
   "cell_type": "code",
   "execution_count": null,
   "id": "81e8d07b",
   "metadata": {},
   "outputs": [],
   "source": []
  },
  {
   "cell_type": "markdown",
   "id": "90aca291",
   "metadata": {},
   "source": [
    "Text Preprocessinng: "
   ]
  },
  {
   "cell_type": "code",
   "execution_count": null,
   "id": "f7e5d538",
   "metadata": {
    "scrolled": true
   },
   "outputs": [],
   "source": []
  },
  {
   "cell_type": "code",
   "execution_count": null,
   "id": "41cacaeb",
   "metadata": {},
   "outputs": [],
   "source": [
    "\n"
   ]
  },
  {
   "cell_type": "code",
   "execution_count": null,
   "id": "ba8e0d1b",
   "metadata": {},
   "outputs": [],
   "source": []
  },
  {
   "cell_type": "code",
   "execution_count": 25,
   "id": "31d8f782",
   "metadata": {},
   "outputs": [],
   "source": [
    "from nltk.tokenize import RegexpTokenizer\n",
    "from sklearn.compose import ColumnTransformer\n",
    "from sklearn.pipeline import Pipeline\n",
    "from sklearn.impute import KNNImputer\n",
    "from sklearn.feature_extraction.text import TfidfVectorizer\n",
    "from sklearn.model_selection import train_test_split\n",
    "from sklearn.neighbors import KNeighborsClassifier\n",
    "from sklearn.ensemble import RandomForestClassifier\n",
    "from xgboost import XGBClassifier\n",
    "from sklearn.naive_bayes import MultinomialNB\n",
    "from sklearn.dummy import DummyClassifier\n",
    "from sklearn.metrics import classification_report\n",
    "from nltk import FreqDist\n",
    "from matplotlib.ticker import MaxNLocator\n",
    "import contractions\n"
   ]
  },
  {
   "cell_type": "markdown",
   "id": "5023fe8b",
   "metadata": {},
   "source": [
    "The contractions library is used to expand contractions in text data. A contraction is a shortened version of a word or group of words, where an apostrophe represents missing letters. For example, \"I'm\" is a contraction of \"I am\", \"you're\" is a contraction of \"you are\", and so on.\n",
    "\n",
    "When working with text data, it's often useful to expand contractions because it can help to improve the accuracy of natural language processing (NLP) models, and it can also make text easier to read and understand. For example, if you're analyzing sentiment in social media data, it's important to expand contractions because \"I'm happy\" and \"I am happy\" have the same meaning, but a model may interpret them differently if contractions are not expanded."
   ]
  },
  {
   "cell_type": "code",
   "execution_count": 26,
   "id": "0f4c3c50",
   "metadata": {},
   "outputs": [
    {
     "name": "stdout",
     "output_type": "stream",
     "text": [
      "                                                  Tweet   Emotion   Brand\n",
      "0     .@wesley83 I have a 3G iPhone. After 3 hrs twe...  negative   apple\n",
      "1     @jessedee Know about @fludapp ? Awesome iPad/i...  positive   apple\n",
      "2     @swonderlin Can not wait for #iPad 2 also. The...  positive   apple\n",
      "3     @sxsw I hope this year's festival is not as cr...  negative   apple\n",
      "4     @sxtxstate great stuff on Fri #SXSW: Marissa M...  positive  google\n",
      "...                                                 ...       ...     ...\n",
      "9088                      Ipad everywhere. #SXSW {link}  positive   apple\n",
      "9089  Wave, buzz... RT @mention We interrupt your re...   neutral  google\n",
      "9090  Google's Zeiger, a physician never reported po...   neutral  google\n",
      "9091  Some Verizon iPhone customers complained their...   neutral     UNK\n",
      "9092  Ï¡Ïàü_ÊÎÒ£Áââ_£â_ÛâRT @...   neutral  google\n",
      "\n",
      "[8936 rows x 3 columns]\n"
     ]
    }
   ],
   "source": [
    "# Apply contractions.fix() to each element in the 'Tweet' column\n",
    "new_df['Tweet'] = new_df['Tweet'].apply(contractions.fix)\n",
    "\n",
    "# View the updated DataFrame\n",
    "print(new_df)"
   ]
  },
  {
   "cell_type": "markdown",
   "id": "a9be19c0",
   "metadata": {},
   "source": [
    "the contractions library did a great job for the most part but we seill have to clean our text so lets create a function that does just that."
   ]
  },
  {
   "cell_type": "code",
   "execution_count": null,
   "id": "3b712f30",
   "metadata": {},
   "outputs": [],
   "source": []
  },
  {
   "cell_type": "code",
   "execution_count": 27,
   "id": "f5e3d856",
   "metadata": {
    "scrolled": true
   },
   "outputs": [
    {
     "name": "stderr",
     "output_type": "stream",
     "text": [
      "[nltk_data] Downloading package stopwords to /Users/a23/nltk_data...\n",
      "[nltk_data]   Package stopwords is already up-to-date!\n",
      "[nltk_data] Downloading package wordnet to /Users/a23/nltk_data...\n",
      "[nltk_data]   Package wordnet is already up-to-date!\n"
     ]
    }
   ],
   "source": [
    "import string\n",
    "import nltk\n",
    "import re\n",
    "from nltk.corpus import stopwords\n",
    "from nltk.stem import WordNetLemmatizer\n",
    "from nltk import FreqDist\n",
    "import seaborn as sns\n",
    "import pandas as pd\n",
    "nltk.download('stopwords')\n",
    "nltk.download('wordnet')\n",
    "lem = WordNetLemmatizer()\n",
    "\n",
    "def clean_and_normalize(tweet, stop_words):\n",
    "    '''\n",
    "    Takes in a tweet and a list of stop words. Returns the cleaned and lemmatized tweet.\n",
    "    '''\n",
    "    x = tweet.lower()\n",
    "    x = re.sub(r'http\\S+', '', x)\n",
    "    x = re.sub(r'@[A-Za-z0-9]+', '', x)\n",
    "    x = re.sub(r'_[A-Za-z0-9]+', '', x)\n",
    "    x = re.sub(r'[^\\w\\s]', '', x)\n",
    "    x = re.sub(r'\\d+', '', x)\n",
    "    \n",
    "    stop_words = set(stopwords.words('english'))\n",
    "    extra_stopwords = ['rt', 'rts', 'retweet', 'quot', 'sxsw']\n",
    "    stop_words.update(extra_stopwords)\n",
    "    \n",
    "    x = [word.lower() for word in x.split() if word.lower() not in stop_words]\n",
    "    x = [lem.lemmatize(word, 'v') for word in x]\n",
    "    x = [w for w in x if len(w)>2]\n",
    "    \n",
    "    return ' '.join(x)\n"
   ]
  },
  {
   "cell_type": "code",
   "execution_count": 28,
   "id": "bfdfbeca",
   "metadata": {},
   "outputs": [],
   "source": [
    "new_df['Tweet'] = new_df['Tweet'].apply(clean_and_normalize, stop_words=stopwords.words('english'))\n"
   ]
  },
  {
   "cell_type": "code",
   "execution_count": 29,
   "id": "b7f2a337",
   "metadata": {},
   "outputs": [
    {
     "data": {
      "text/plain": [
       "0    iphone hrs tweet rise dead need upgrade plugin...\n",
       "1    know awesome ipadiphone app likely appreciate ...\n",
       "2                                  wait ipad also sale\n",
       "3          hope years festival crashy years iphone app\n",
       "4    great stuff fri marissa mayer google tim oreil...\n",
       "Name: Tweet, dtype: object"
      ]
     },
     "execution_count": 29,
     "metadata": {},
     "output_type": "execute_result"
    }
   ],
   "source": [
    "new_df['Tweet'].head()"
   ]
  },
  {
   "cell_type": "code",
   "execution_count": 30,
   "id": "7469be37",
   "metadata": {
    "scrolled": true
   },
   "outputs": [
    {
     "data": {
      "text/plain": [
       "FreqDist({'ipad': 1810, 'apple': 1306, 'link': 1278, 'google': 1265, 'store': 1131, 'iphone': 1039, 'new': 683, 'austin': 640, 'app': 589, 'amp': 531, ...})"
      ]
     },
     "execution_count": 30,
     "metadata": {},
     "output_type": "execute_result"
    }
   ],
   "source": [
    "# Word count of all the vocabulary\n",
    "FreqDist(new_df['Tweet'].unique().sum().split())"
   ]
  },
  {
   "cell_type": "code",
   "execution_count": 31,
   "id": "1aa1a681",
   "metadata": {},
   "outputs": [],
   "source": [
    "# Create a frequency distribution of all the words\n",
    "all_words = ' '.join(new_df['Tweet'].tolist()).split()\n",
    "fdist = FreqDist(all_words)"
   ]
  },
  {
   "cell_type": "code",
   "execution_count": 32,
   "id": "d166aa2b",
   "metadata": {},
   "outputs": [],
   "source": [
    "# Get the 10 most common words\n",
    "top_words = dict(fdist.most_common(10))"
   ]
  },
  {
   "cell_type": "code",
   "execution_count": 33,
   "id": "deafccf2",
   "metadata": {},
   "outputs": [
    {
     "data": {
      "image/png": "[encoded data removed]",
      "text/plain": [
       "<Figure size 720x432 with 1 Axes>"
      ]
     },
     "metadata": {},
     "output_type": "display_data"
    }
   ],
   "source": [
    "\n",
    "# Plot a bar chart of the top 10 words\n",
    "plt.figure(figsize=(10, 6))\n",
    "sns.barplot(x=list(top_words.keys()), y=list(top_words.values()))\n",
    "plt.title('Top 10 Most Common Words')\n",
    "plt.xlabel('Word')\n",
    "plt.ylabel('Frequency')\n",
    "plt.show()"
   ]
  },
  {
   "cell_type": "code",
   "execution_count": 34,
   "id": "53d56c67",
   "metadata": {},
   "outputs": [],
   "source": [
    "def plot_top_words(brand, emotion):\n",
    "    \n",
    "    # Subset the data based on brand and emotion\n",
    "    df = new_df[(new_df['Brand'] == brand) & (new_df['Emotion'] == emotion)]\n",
    "\n",
    "    # Concatenate all tweets into a single string\n",
    "    all_tweets = ' '.join(df['Tweet'])\n",
    "\n",
    "    # Tokenize the string into words\n",
    "    words = all_tweets.split()\n",
    "\n",
    "    # Remove stop words and non-alphabetic characters\n",
    "    stop_words = set(stopwords.words('english'))\n",
    "    words = [word.lower() for word in words if word.lower() not in stop_words and word.isalpha()]\n",
    "\n",
    "    # Calculate word frequencies\n",
    "    fdist = FreqDist(words)\n",
    "    top_words = pd.DataFrame(fdist.most_common(10), columns=['Word', 'Frequency'])\n",
    "\n",
    "    # Plot the top words\n",
    "    sns.set(style=\"whitegrid\")\n",
    "    ax = sns.barplot(y=\"Frequency\", x=\"Word\", data=top_words, palette=\"Blues_d\")\n",
    "    ax.set_title(f\"Top 10 words for {emotion} tweets about {brand}\")\n",
    "    ax.set_xlabel(\"Frequency\")\n",
    "    ax.set_ylabel(\"Word\")\n",
    "\n",
    "    plt.show()\n"
   ]
  },
  {
   "cell_type": "code",
   "execution_count": 35,
   "id": "fd040850",
   "metadata": {},
   "outputs": [
    {
     "data": {
      "image/png": "[encoded data removed]",
      "text/plain": [
       "<Figure size 432x288 with 1 Axes>"
      ]
     },
     "metadata": {},
     "output_type": "display_data"
    }
   ],
   "source": [
    "plot_top_words('apple', 'positive')"
   ]
  },
  {
   "cell_type": "code",
   "execution_count": 36,
   "id": "e236a31b",
   "metadata": {},
   "outputs": [
    {
     "data": {
      "image/png": "[encoded data removed]",
      "text/plain": [
       "<Figure size 432x288 with 1 Axes>"
      ]
     },
     "metadata": {},
     "output_type": "display_data"
    }
   ],
   "source": [
    "plot_top_words('apple', 'negative')"
   ]
  },
  {
   "cell_type": "code",
   "execution_count": 37,
   "id": "5c30e936",
   "metadata": {
    "scrolled": true
   },
   "outputs": [
    {
     "data": {
      "image/png": "[encoded data removed]",
      "text/plain": [
       "<Figure size 432x288 with 1 Axes>"
      ]
     },
     "metadata": {},
     "output_type": "display_data"
    }
   ],
   "source": [
    "plot_top_words('apple', 'neutral')"
   ]
  },
  {
   "cell_type": "code",
   "execution_count": 38,
   "id": "95a82d49",
   "metadata": {},
   "outputs": [
    {
     "data": {
      "image/png": "[encoded data removed]",
      "text/plain": [
       "<Figure size 432x288 with 1 Axes>"
      ]
     },
     "metadata": {},
     "output_type": "display_data"
    }
   ],
   "source": [
    "plot_top_words('google', 'positive')"
   ]
  },
  {
   "cell_type": "code",
   "execution_count": 39,
   "id": "7baf77b1",
   "metadata": {},
   "outputs": [
    {
     "data": {
      "image/png": "[encoded data removed]",
      "text/plain": [
       "<Figure size 432x288 with 1 Axes>"
      ]
     },
     "metadata": {},
     "output_type": "display_data"
    }
   ],
   "source": [
    "plot_top_words('google', 'negative')"
   ]
  },
  {
   "cell_type": "code",
   "execution_count": 40,
   "id": "44088260",
   "metadata": {},
   "outputs": [
    {
     "data": {
      "image/png": "[encoded data removed]",
      "text/plain": [
       "<Figure size 432x288 with 1 Axes>"
      ]
     },
     "metadata": {},
     "output_type": "display_data"
    }
   ],
   "source": [
    "\n",
    "plot_top_words('google', 'neutral')\n"
   ]
  },
  {
   "cell_type": "code",
   "execution_count": 41,
   "id": "99d00a97",
   "metadata": {},
   "outputs": [
    {
     "data": {
      "image/png": "[encoded data removed]",
      "text/plain": [
       "<Figure size 432x288 with 1 Axes>"
      ]
     },
     "metadata": {},
     "output_type": "display_data"
    }
   ],
   "source": [
    "plot_top_words('UNK', 'positive')"
   ]
  },
  {
   "cell_type": "code",
   "execution_count": 42,
   "id": "71cf417b",
   "metadata": {},
   "outputs": [
    {
     "data": {
      "image/png": "[encoded data removed]",
      "text/plain": [
       "<Figure size 432x288 with 1 Axes>"
      ]
     },
     "metadata": {},
     "output_type": "display_data"
    }
   ],
   "source": [
    "plot_top_words('UNK', 'negative')"
   ]
  },
  {
   "cell_type": "code",
   "execution_count": 43,
   "id": "6166fa3d",
   "metadata": {},
   "outputs": [
    {
     "data": {
      "image/png": "[encoded data removed]",
      "text/plain": [
       "<Figure size 432x288 with 1 Axes>"
      ]
     },
     "metadata": {},
     "output_type": "display_data"
    }
   ],
   "source": [
    "plot_top_words('UNK', 'neutral')"
   ]
  },
  {
   "cell_type": "markdown",
   "id": "22b3d777",
   "metadata": {},
   "source": [
    "models require the target variable to be of integer type, so let's assign 0 to Negative emotion, 1 to No emotion toward brand or product and 2 to Positive emotion.\n"
   ]
  },
  {
   "cell_type": "code",
   "execution_count": 44,
   "id": "ecf86522",
   "metadata": {},
   "outputs": [],
   "source": [
    "\n",
    "\n",
    "def number_map(x):\n",
    "    if x == 'positive':\n",
    "        return 2\n",
    "    elif x == 'neutral':\n",
    "        return 1\n",
    "    else:\n",
    "        return 0"
   ]
  },
  {
   "cell_type": "code",
   "execution_count": 45,
   "id": "f7360cf9",
   "metadata": {},
   "outputs": [],
   "source": [
    "new_df['Emotion'] = new_df['Emotion'].apply(number_map)"
   ]
  },
  {
   "cell_type": "code",
   "execution_count": 262,
   "id": "7d49358f",
   "metadata": {},
   "outputs": [
    {
     "data": {
      "text/plain": [
       "1    5388\n",
       "2    2978\n",
       "0     570\n",
       "Name: Emotion, dtype: int64"
      ]
     },
     "execution_count": 262,
     "metadata": {},
     "output_type": "execute_result"
    }
   ],
   "source": [
    "new_df['Emotion'].value_counts()"
   ]
  },
  {
   "cell_type": "code",
   "execution_count": 46,
   "id": "27986e35",
   "metadata": {},
   "outputs": [
    {
     "data": {
      "text/html": [
       "<div>\n",
       "<style scoped>\n",
       "    .dataframe tbody tr th:only-of-type {\n",
       "        vertical-align: middle;\n",
       "    }\n",
       "\n",
       "    .dataframe tbody tr th {\n",
       "        vertical-align: top;\n",
       "    }\n",
       "\n",
       "    .dataframe thead th {\n",
       "        text-align: right;\n",
       "    }\n",
       "</style>\n",
       "<table border=\"1\" class=\"dataframe\">\n",
       "  <thead>\n",
       "    <tr style=\"text-align: right;\">\n",
       "      <th></th>\n",
       "      <th>Tweet</th>\n",
       "      <th>Emotion</th>\n",
       "      <th>Brand_UNK</th>\n",
       "      <th>Brand_apple</th>\n",
       "      <th>Brand_google</th>\n",
       "    </tr>\n",
       "  </thead>\n",
       "  <tbody>\n",
       "    <tr>\n",
       "      <th>0</th>\n",
       "      <td>iphone hrs tweet rise dead need upgrade plugin...</td>\n",
       "      <td>0</td>\n",
       "      <td>0</td>\n",
       "      <td>1</td>\n",
       "      <td>0</td>\n",
       "    </tr>\n",
       "    <tr>\n",
       "      <th>1</th>\n",
       "      <td>know awesome ipadiphone app likely appreciate ...</td>\n",
       "      <td>2</td>\n",
       "      <td>0</td>\n",
       "      <td>1</td>\n",
       "      <td>0</td>\n",
       "    </tr>\n",
       "    <tr>\n",
       "      <th>2</th>\n",
       "      <td>wait ipad also sale</td>\n",
       "      <td>2</td>\n",
       "      <td>0</td>\n",
       "      <td>1</td>\n",
       "      <td>0</td>\n",
       "    </tr>\n",
       "    <tr>\n",
       "      <th>3</th>\n",
       "      <td>hope years festival crashy years iphone app</td>\n",
       "      <td>0</td>\n",
       "      <td>0</td>\n",
       "      <td>1</td>\n",
       "      <td>0</td>\n",
       "    </tr>\n",
       "    <tr>\n",
       "      <th>4</th>\n",
       "      <td>great stuff fri marissa mayer google tim oreil...</td>\n",
       "      <td>2</td>\n",
       "      <td>0</td>\n",
       "      <td>0</td>\n",
       "      <td>1</td>\n",
       "    </tr>\n",
       "  </tbody>\n",
       "</table>\n",
       "</div>"
      ],
      "text/plain": [
       "                                               Tweet  Emotion  Brand_UNK  \\\n",
       "0  iphone hrs tweet rise dead need upgrade plugin...        0          0   \n",
       "1  know awesome ipadiphone app likely appreciate ...        2          0   \n",
       "2                                wait ipad also sale        2          0   \n",
       "3        hope years festival crashy years iphone app        0          0   \n",
       "4  great stuff fri marissa mayer google tim oreil...        2          0   \n",
       "\n",
       "   Brand_apple  Brand_google  \n",
       "0            1             0  \n",
       "1            1             0  \n",
       "2            1             0  \n",
       "3            1             0  \n",
       "4            0             1  "
      ]
     },
     "execution_count": 46,
     "metadata": {},
     "output_type": "execute_result"
    }
   ],
   "source": [
    "# Create dummy variables for the 'Brand' column\n",
    "brand_dummies = pd.get_dummies(new_df['Brand'], prefix='Brand')\n",
    "\n",
    "# Concatenate the original DataFrame with the brand_dummies DataFrame\n",
    "new_df = pd.concat([new_df, brand_dummies], axis=1)\n",
    "\n",
    "# Drop the 'Brand' column since it is no longer needed\n",
    "new_df = new_df.drop('Brand', axis=1)\n",
    "\n",
    "new_df.head()"
   ]
  },
  {
   "cell_type": "markdown",
   "id": "6f4b4b20",
   "metadata": {},
   "source": [
    "# Modeling:\n",
    "\n",
    "We will now begin the modeling process after performing a train-test split. Our initial approach will be to use a Multinomial model, which will be complemented by the application of Term Frequency-Inverse Document Frequency (TF-IDF). TF-IDF is a statistical measure used to evaluate the significance of a word in a document or corpus. It assigns a weight to each term based on its frequency in the document and its rarity in the entire corpus. This weight reflects the importance of the term to the document, with higher weights indicating greater significance.\n",
    "\n",
    "TF-IDF is commonly used to transform a collection of documents into a numerical feature vector. The feature vector can then be used as input to machine learning algorithms, such as random forest and XGBoost, for tasks like document classification, clustering, and information retrieval.\n",
    "\n",
    "To address class imbalance, we will apply Random Oversampling after the application of TF-IDF. We will also perform a grid search on both random forest and XGBoost models to determine the best hyperparameters for each.\n",
    "\n"
   ]
  },
  {
   "cell_type": "code",
   "execution_count": null,
   "id": "2722ef6e",
   "metadata": {},
   "outputs": [],
   "source": []
  },
  {
   "cell_type": "code",
   "execution_count": 47,
   "id": "1461a011",
   "metadata": {},
   "outputs": [],
   "source": [
    "# split data into features and target variable\n",
    "X = new_df.drop(['Emotion'], axis=1)\n",
    "y = new_df['Emotion']"
   ]
  },
  {
   "cell_type": "code",
   "execution_count": null,
   "id": "1d097919",
   "metadata": {},
   "outputs": [],
   "source": []
  },
  {
   "cell_type": "code",
   "execution_count": 48,
   "id": "8820bb4e",
   "metadata": {},
   "outputs": [],
   "source": [
    "from sklearn.model_selection import train_test_split\n",
    "\n",
    "# split data into training and testing sets\n",
    "X_train, X_test, y_train, y_test = train_test_split(X, y, test_size=0.3, random_state=42)\n",
    "\n"
   ]
  },
  {
   "cell_type": "code",
   "execution_count": null,
   "id": "9dbecfee",
   "metadata": {},
   "outputs": [],
   "source": []
  },
  {
   "cell_type": "code",
   "execution_count": 49,
   "id": "716b1cf3",
   "metadata": {},
   "outputs": [],
   "source": [
    "from sklearn.feature_extraction.text import TfidfVectorizer\n",
    "\n",
    "# Initialize the TF-IDF vectorizer with parameters\n",
    "tfidf_vectorizer = TfidfVectorizer(max_features=5000)\n",
    "\n",
    "# Fit and transform the training data\n",
    "X_train_tfidf = tfidf_vectorizer.fit_transform(X_train['Tweet'])\n",
    "# Transform the test data\n",
    "X_test_tfidf = tfidf_vectorizer.transform(X_test['Tweet'])\n"
   ]
  },
  {
   "cell_type": "code",
   "execution_count": 50,
   "id": "4f9f0be5",
   "metadata": {},
   "outputs": [],
   "source": [
    "from imblearn.over_sampling import RandomOverSampler\n"
   ]
  },
  {
   "cell_type": "code",
   "execution_count": 120,
   "id": "f4d39943",
   "metadata": {
    "scrolled": true
   },
   "outputs": [],
   "source": [
    "# Initialize the RandomOverSampler\n",
    "ros = RandomOverSampler(random_state=42)\n",
    "\n",
    "# Fit the training data\n",
    "X_train_res, y_train_res = ros.fit_resample(X_train_tfidf, np.array(y_train).ravel())\n"
   ]
  },
  {
   "cell_type": "code",
   "execution_count": 121,
   "id": "3dad75c5",
   "metadata": {},
   "outputs": [
    {
     "name": "stdout",
     "output_type": "stream",
     "text": [
      "{0: 4294, 1: 4294, 2: 4294}\n"
     ]
    }
   ],
   "source": [
    "unique, counts = np.unique(y_train_res, return_counts=True)\n",
    "print(dict(zip(unique, counts)))"
   ]
  },
  {
   "cell_type": "markdown",
   "id": "13c6c50e",
   "metadata": {},
   "source": [
    "## Baseline Model: \n",
    "Multinomial Naive Bayes (MNB) is a type of Naive Bayes algorithm, which is commonly used for text classification tasks. In MNB, the features (words or tokens) are modeled using a multinomial distribution, where each feature represents the frequency of a term in a document. The algorithm calculates the probabilities of each class based on the frequencies of the features in the training data. During prediction, it uses Bayes' theorem to calculate the probability of each class given the input features, and returns the class with the highest probability as the predicted class. MNB is a fast and simple algorithm that works well for text classification tasks with a large number of features."
   ]
  },
  {
   "cell_type": "code",
   "execution_count": 52,
   "id": "b13793c6",
   "metadata": {},
   "outputs": [],
   "source": [
    "from sklearn.naive_bayes import MultinomialNB"
   ]
  },
  {
   "cell_type": "code",
   "execution_count": 53,
   "id": "5b1894af",
   "metadata": {},
   "outputs": [],
   "source": [
    "#Initialize the model\n",
    "nb_model = MultinomialNB()"
   ]
  },
  {
   "cell_type": "code",
   "execution_count": 54,
   "id": "a3055a91",
   "metadata": {},
   "outputs": [
    {
     "data": {
      "text/plain": [
       "MultinomialNB()"
      ]
     },
     "execution_count": 54,
     "metadata": {},
     "output_type": "execute_result"
    }
   ],
   "source": [
    "#Fit the models with the resampled training data\n",
    "nb_model.fit(X_train_res, y_train_res)"
   ]
  },
  {
   "cell_type": "code",
   "execution_count": 55,
   "id": "82a97eaa",
   "metadata": {
    "scrolled": true
   },
   "outputs": [],
   "source": [
    "from sklearn.metrics import classification_report, confusion_matrix\n",
    "\n"
   ]
  },
  {
   "cell_type": "code",
   "execution_count": 56,
   "id": "d24055eb",
   "metadata": {},
   "outputs": [],
   "source": [
    "# Predict the test data\n",
    "y_pred = nb_model.predict(X_test_tfidf)"
   ]
  },
  {
   "cell_type": "code",
   "execution_count": 57,
   "id": "64277e9a",
   "metadata": {
    "scrolled": true
   },
   "outputs": [
    {
     "data": {
      "image/png": "[encoded data removed]",
      "text/plain": [
       "<Figure size 432x288 with 2 Axes>"
      ]
     },
     "metadata": {},
     "output_type": "display_data"
    },
    {
     "name": "stdout",
     "output_type": "stream",
     "text": [
      "              precision    recall  f1-score   support\n",
      "\n",
      "    Negative       0.26      0.53      0.35       189\n",
      "     Neutral       0.75      0.60      0.67      1612\n",
      "    Positive       0.51      0.58      0.54       880\n",
      "\n",
      "    accuracy                           0.59      2681\n",
      "   macro avg       0.51      0.57      0.52      2681\n",
      "weighted avg       0.64      0.59      0.60      2681\n",
      "\n"
     ]
    }
   ],
   "source": [
    "# Print the confusion matrix\n",
    "conf_matrix = confusion_matrix(y_test, y_pred)\n",
    "sns.heatmap(conf_matrix, annot=True,cmap='Blues', fmt=\"d\", xticklabels=['Negtive','Neutral','Positive'], yticklabels=['Negtive','Neutral','Positive'])\n",
    "plt.ylabel('Actual')\n",
    "plt.xlabel('Predicted')\n",
    "plt.title(\"Confusion Matrix\")\n",
    "plt.show()\n",
    "# Print the classification report\n",
    "print(classification_report(y_test, y_pred,target_names=['Negative','Neutral','Positive']))"
   ]
  },
  {
   "cell_type": "code",
   "execution_count": null,
   "id": "bf15c3ae",
   "metadata": {},
   "outputs": [],
   "source": []
  },
  {
   "cell_type": "code",
   "execution_count": 58,
   "id": "0ee9d044",
   "metadata": {},
   "outputs": [],
   "source": [
    "#Importing GrridSearch\n",
    "from sklearn.model_selection import GridSearchCV"
   ]
  },
  {
   "cell_type": "markdown",
   "id": "82faf66c",
   "metadata": {},
   "source": [
    "## Random Forest\n",
    "Random forest is a supervised learning algorithm that builds a large number of decision trees and combines their predictions to obtain a more accurate and stable prediction. Each tree in the random forest is built on a random subset of the data and a random subset of the features. This randomness helps to reduce overfitting and increase the generalization of the model. The output of a random forest is the mode of the predictions of the individual trees, in case of classification problems, or the mean of the predictions, in case of regression problems."
   ]
  },
  {
   "cell_type": "code",
   "execution_count": 59,
   "id": "537ab48b",
   "metadata": {},
   "outputs": [],
   "source": [
    "rf_model = RandomForestClassifier()"
   ]
  },
  {
   "cell_type": "code",
   "execution_count": 60,
   "id": "4c2a8184",
   "metadata": {},
   "outputs": [
    {
     "data": {
      "text/plain": [
       "RandomForestClassifier()"
      ]
     },
     "execution_count": 60,
     "metadata": {},
     "output_type": "execute_result"
    }
   ],
   "source": [
    "#Fit the models with the resampled training data\n",
    "rf_model.fit(X_train_res, y_train_res)"
   ]
  },
  {
   "cell_type": "code",
   "execution_count": null,
   "id": "d79d6606",
   "metadata": {},
   "outputs": [],
   "source": []
  },
  {
   "cell_type": "code",
   "execution_count": 61,
   "id": "86623359",
   "metadata": {},
   "outputs": [],
   "source": [
    "# Predict the test data\n",
    "rf_pred = rf_model.predict(X_test_tfidf)"
   ]
  },
  {
   "cell_type": "code",
   "execution_count": 62,
   "id": "a9d11b73",
   "metadata": {},
   "outputs": [
    {
     "data": {
      "image/png": "[encoded data removed]",
      "text/plain": [
       "<Figure size 432x288 with 2 Axes>"
      ]
     },
     "metadata": {},
     "output_type": "display_data"
    },
    {
     "name": "stdout",
     "output_type": "stream",
     "text": [
      "              precision    recall  f1-score   support\n",
      "\n",
      "    Negative       0.57      0.22      0.32       189\n",
      "     Neutral       0.71      0.81      0.76      1612\n",
      "    Positive       0.58      0.51      0.54       880\n",
      "\n",
      "    accuracy                           0.67      2681\n",
      "   macro avg       0.62      0.51      0.54      2681\n",
      "weighted avg       0.66      0.67      0.66      2681\n",
      "\n"
     ]
    }
   ],
   "source": [
    "# Print the confusion matrix\n",
    "conf_matrix = confusion_matrix(y_test, rf_pred)\n",
    "sns.heatmap(conf_matrix, annot=True,cmap='Blues', fmt=\"d\", xticklabels=['Negtive','Neutral','Positive'], yticklabels=['Negtive','Neutral','Positive'])\n",
    "plt.ylabel('Actual')\n",
    "plt.xlabel('Predicted')\n",
    "plt.title(\"Confusion Matrix\")\n",
    "plt.show()\n",
    "\n",
    "# Print the classification report\n",
    "print(classification_report(y_test, rf_pred,target_names=['Negative','Neutral','Positive']))"
   ]
  },
  {
   "cell_type": "code",
   "execution_count": 63,
   "id": "57d30461",
   "metadata": {},
   "outputs": [],
   "source": [
    "#RF gridsearch"
   ]
  },
  {
   "cell_type": "code",
   "execution_count": 64,
   "id": "2c481719",
   "metadata": {},
   "outputs": [],
   "source": [
    "rf_param_grid = {'n_estimators': [100, 200],\n",
    "                 'max_depth': [5, 9, 13],\n",
    "                 'min_samples_split': [2, 10],\n",
    "                 'min_samples_leaf': [1, 5],\n",
    "                 'max_features': ['sqrt']}"
   ]
  },
  {
   "cell_type": "code",
   "execution_count": 65,
   "id": "8d33cb8f",
   "metadata": {},
   "outputs": [],
   "source": [
    "# Perform random search with 5 iterations\n",
    "rf_grid = GridSearchCV(rf_model, rf_param_grid, cv=5, n_jobs=-1)"
   ]
  },
  {
   "cell_type": "code",
   "execution_count": 66,
   "id": "e6bb8118",
   "metadata": {},
   "outputs": [
    {
     "data": {
      "text/plain": [
       "GridSearchCV(cv=5, estimator=RandomForestClassifier(), n_jobs=-1,\n",
       "             param_grid={'max_depth': [5, 9, 13], 'max_features': ['sqrt'],\n",
       "                         'min_samples_leaf': [1, 5],\n",
       "                         'min_samples_split': [2, 10],\n",
       "                         'n_estimators': [100, 200]})"
      ]
     },
     "execution_count": 66,
     "metadata": {},
     "output_type": "execute_result"
    }
   ],
   "source": [
    "# Fit the grid search to the training data\n",
    "rf_grid.fit(X_train_res, y_train_res)"
   ]
  },
  {
   "cell_type": "code",
   "execution_count": 67,
   "id": "36225ae0",
   "metadata": {},
   "outputs": [
    {
     "data": {
      "text/plain": [
       "RandomForestClassifier(max_depth=13, max_features='sqrt', n_estimators=200,\n",
       "                       random_state=42)"
      ]
     },
     "execution_count": 67,
     "metadata": {},
     "output_type": "execute_result"
    }
   ],
   "source": [
    "# Retrain the model using the best hyperparameters\n",
    "rf_tuned = RandomForestClassifier(**rf_grid.best_params_, random_state=42)\n",
    "rf_tuned.fit(X_train_res, y_train_res)"
   ]
  },
  {
   "cell_type": "code",
   "execution_count": 68,
   "id": "fa047603",
   "metadata": {},
   "outputs": [],
   "source": [
    "# Predict the test data\n",
    "rf_tuned_y_pred = rf_tuned.predict(X_test_tfidf)"
   ]
  },
  {
   "cell_type": "code",
   "execution_count": 69,
   "id": "91989d7d",
   "metadata": {},
   "outputs": [
    {
     "data": {
      "image/png": "[encoded data removed]",
      "text/plain": [
       "<Figure size 432x288 with 2 Axes>"
      ]
     },
     "metadata": {},
     "output_type": "display_data"
    },
    {
     "name": "stdout",
     "output_type": "stream",
     "text": [
      "              precision    recall  f1-score   support\n",
      "\n",
      "    Negative       0.18      0.59      0.28       189\n",
      "     Neutral       0.75      0.56      0.64      1612\n",
      "    Positive       0.48      0.47      0.48       880\n",
      "\n",
      "    accuracy                           0.53      2681\n",
      "   macro avg       0.47      0.54      0.47      2681\n",
      "weighted avg       0.62      0.53      0.56      2681\n",
      "\n"
     ]
    }
   ],
   "source": [
    "# Print the confusion matrix\n",
    "conf_matrix = confusion_matrix(y_test, rf_tuned_y_pred)\n",
    "sns.heatmap(conf_matrix, annot=True,cmap='Blues', fmt=\"d\", xticklabels=['Negtive','Neutral','Positive'], yticklabels=['Negtive','Neutral','Positive'])\n",
    "plt.ylabel('Actual')\n",
    "plt.xlabel('Predicted')\n",
    "plt.title(\"Confusion Matrix\")\n",
    "plt.show()\n",
    "\n",
    "# Print the classification report\n",
    "print(classification_report(y_test, rf_tuned_y_pred,target_names=['Negative','Neutral','Positive']))"
   ]
  },
  {
   "cell_type": "markdown",
   "id": "84e9f1c7",
   "metadata": {},
   "source": []
  },
  {
   "cell_type": "markdown",
   "id": "26a71c8e",
   "metadata": {},
   "source": [
    "## XGBoost:\n",
    "XGBoost (Extreme Gradient Boosting) is a popular gradient boosting library that can be used for classification and regression tasks. Like Random Forest, XGBoost is an ensemble learning method that combines multiple weak models (decision trees in this case) to create a stronger overall model.\n",
    "\n",
    "The main difference between Random Forest and XGBoost lies in how they combine these weak models. In Random Forest, decision trees are built independently, whereas in XGBoost, they are built sequentially with a focus on reducing the errors made by the previous trees.\n",
    "\n",
    "To achieve this, XGBoost uses a technique called gradient boosting, where each new tree is trained to correct the mistakes made by the previous trees. The predictions of all the trees are then added together to obtain the final prediction.\n",
    "\n",
    "XGBoost also has several advanced features, such as regularization and parallel processing, which can improve its performance and scalability. These features make XGBoost a popular choice for many machine learning tasks, particularly those involving structured data.\n",
    "\n",
    "\n",
    "\n",
    "\n"
   ]
  },
  {
   "cell_type": "code",
   "execution_count": 70,
   "id": "3b505e68",
   "metadata": {},
   "outputs": [],
   "source": [
    "#Initialize the models\n",
    "xgb_model = XGBClassifier()"
   ]
  },
  {
   "cell_type": "code",
   "execution_count": 71,
   "id": "76630cb9",
   "metadata": {},
   "outputs": [
    {
     "data": {
      "text/plain": [
       "XGBClassifier(base_score=0.5, booster='gbtree', colsample_bylevel=1,\n",
       "              colsample_bynode=1, colsample_bytree=1, gamma=0, gpu_id=-1,\n",
       "              importance_type='gain', interaction_constraints='',\n",
       "              learning_rate=0.300000012, max_delta_step=0, max_depth=6,\n",
       "              min_child_weight=1, missing=nan, monotone_constraints='()',\n",
       "              n_estimators=100, n_jobs=0, num_parallel_tree=1,\n",
       "              objective='multi:softprob', random_state=0, reg_alpha=0,\n",
       "              reg_lambda=1, scale_pos_weight=None, subsample=1,\n",
       "              tree_method='exact', validate_parameters=1, verbosity=None)"
      ]
     },
     "execution_count": 71,
     "metadata": {},
     "output_type": "execute_result"
    }
   ],
   "source": [
    "#Fit the models with the resampled training data\n",
    "xgb_model.fit(X_train_res, y_train_res)"
   ]
  },
  {
   "cell_type": "code",
   "execution_count": 72,
   "id": "ab44e6da",
   "metadata": {},
   "outputs": [],
   "source": [
    "# Predict the test data\n",
    "xgb_pred = xgb_model.predict(X_test_tfidf)"
   ]
  },
  {
   "cell_type": "code",
   "execution_count": 73,
   "id": "9906fe50",
   "metadata": {},
   "outputs": [
    {
     "data": {
      "image/png": "[encoded data removed]",
      "text/plain": [
       "<Figure size 432x288 with 2 Axes>"
      ]
     },
     "metadata": {},
     "output_type": "display_data"
    },
    {
     "name": "stdout",
     "output_type": "stream",
     "text": [
      "              precision    recall  f1-score   support\n",
      "\n",
      "    Negative       0.28      0.41      0.33       189\n",
      "     Neutral       0.73      0.70      0.71      1612\n",
      "    Positive       0.54      0.53      0.53       880\n",
      "\n",
      "    accuracy                           0.62      2681\n",
      "   macro avg       0.52      0.55      0.53      2681\n",
      "weighted avg       0.63      0.62      0.63      2681\n",
      "\n"
     ]
    }
   ],
   "source": [
    "# Print the confusion matrix\n",
    "conf_matrix = confusion_matrix(y_test, xgb_pred)\n",
    "sns.heatmap(conf_matrix, annot=True,cmap='Blues', fmt=\"d\", xticklabels=['Negtive','Neutral','Positive'], yticklabels=['Negtive','Neutral','Positive'])\n",
    "plt.ylabel('Actual')\n",
    "plt.xlabel('Predicted')\n",
    "plt.title(\"Confusion Matrix\")\n",
    "plt.show()\n",
    "\n",
    "# Print the classification report\n",
    "print(classification_report(y_test, xgb_pred,target_names=['Negative','Neutral','Positive']))"
   ]
  },
  {
   "cell_type": "markdown",
   "id": "6e30e177",
   "metadata": {},
   "source": [
    "## Grid search on XGB"
   ]
  },
  {
   "cell_type": "code",
   "execution_count": 74,
   "id": "c0538a02",
   "metadata": {},
   "outputs": [],
   "source": [
    "# Define the parameter grid for Grid Search\n",
    "param_grid =  {'n_estimators': [100, 200, 500],\n",
    "              'max_depth': [5, 9],\n",
    "              'learning_rate': [0.01, 0.1],\n",
    "              'subsample': [0.5, 0.8],\n",
    "              'colsample_bytree': [0.5, 0.8]}"
   ]
  },
  {
   "cell_type": "code",
   "execution_count": 75,
   "id": "db8e7ab0",
   "metadata": {},
   "outputs": [],
   "source": [
    "xgb_grid =GridSearchCV(xgb_model, param_grid, cv=5, n_jobs=-1)\n"
   ]
  },
  {
   "cell_type": "code",
   "execution_count": 76,
   "id": "0e6242de",
   "metadata": {},
   "outputs": [
    {
     "data": {
      "text/plain": [
       "GridSearchCV(cv=5,\n",
       "             estimator=XGBClassifier(base_score=0.5, booster='gbtree',\n",
       "                                     colsample_bylevel=1, colsample_bynode=1,\n",
       "                                     colsample_bytree=1, gamma=0, gpu_id=-1,\n",
       "                                     importance_type='gain',\n",
       "                                     interaction_constraints='',\n",
       "                                     learning_rate=0.300000012,\n",
       "                                     max_delta_step=0, max_depth=6,\n",
       "                                     min_child_weight=1, missing=nan,\n",
       "                                     monotone_constraints='()',\n",
       "                                     n_estimators=100, n_jobs=0,\n",
       "                                     num_parallel_tree=1,\n",
       "                                     objective='multi:softprob', random_state=0,\n",
       "                                     reg_alpha=0, reg_lambda=1,\n",
       "                                     scale_pos_weight=None, subsample=1,\n",
       "                                     tree_method='exact', validate_parameters=1,\n",
       "                                     verbosity=None),\n",
       "             n_jobs=-1,\n",
       "             param_grid={'colsample_bytree': [0.5, 0.8],\n",
       "                         'learning_rate': [0.01, 0.1], 'max_depth': [5, 9],\n",
       "                         'n_estimators': [100, 200, 500],\n",
       "                         'subsample': [0.5, 0.8]})"
      ]
     },
     "execution_count": 76,
     "metadata": {},
     "output_type": "execute_result"
    }
   ],
   "source": [
    "# Fit the model with the best hyperparameters\n",
    "xgb_grid.fit(X_train_res, y_train_res)"
   ]
  },
  {
   "cell_type": "code",
   "execution_count": 77,
   "id": "509831c7",
   "metadata": {},
   "outputs": [
    {
     "data": {
      "text/plain": [
       "XGBClassifier(base_score=0.5, booster='gbtree', colsample_bylevel=1,\n",
       "              colsample_bynode=1, colsample_bytree=0.8, gamma=0, gpu_id=-1,\n",
       "              importance_type='gain', interaction_constraints='',\n",
       "              learning_rate=0.1, max_delta_step=0, max_depth=9,\n",
       "              min_child_weight=1, missing=nan, monotone_constraints='()',\n",
       "              n_estimators=500, n_jobs=0, num_parallel_tree=1,\n",
       "              objective='multi:softprob', random_state=42, reg_alpha=0,\n",
       "              reg_lambda=1, scale_pos_weight=None, subsample=0.8,\n",
       "              tree_method='exact', validate_parameters=1, verbosity=None)"
      ]
     },
     "execution_count": 77,
     "metadata": {},
     "output_type": "execute_result"
    }
   ],
   "source": [
    "# Retrain the model using the best hyperparameters\n",
    "xgb_tuned = XGBClassifier(**xgb_grid.best_params_, random_state=42)\n",
    "xgb_tuned.fit(X_train_res, y_train_res)"
   ]
  },
  {
   "cell_type": "code",
   "execution_count": 78,
   "id": "6a005675",
   "metadata": {},
   "outputs": [],
   "source": [
    "# Predict the test data\n",
    "xgb_tuned_y_pred = xgb_model.predict(X_test_tfidf)"
   ]
  },
  {
   "cell_type": "code",
   "execution_count": 79,
   "id": "f66ef634",
   "metadata": {
    "scrolled": true
   },
   "outputs": [
    {
     "data": {
      "image/png": "[encoded data removed]",
      "text/plain": [
       "<Figure size 432x288 with 2 Axes>"
      ]
     },
     "metadata": {},
     "output_type": "display_data"
    },
    {
     "name": "stdout",
     "output_type": "stream",
     "text": [
      "              precision    recall  f1-score   support\n",
      "\n",
      "    Negative       0.28      0.41      0.33       189\n",
      "     Neutral       0.73      0.70      0.71      1612\n",
      "    Positive       0.54      0.53      0.53       880\n",
      "\n",
      "    accuracy                           0.62      2681\n",
      "   macro avg       0.52      0.55      0.53      2681\n",
      "weighted avg       0.63      0.62      0.63      2681\n",
      "\n"
     ]
    }
   ],
   "source": [
    "# Print the confusion matrix\n",
    "conf_matrix = confusion_matrix(y_test, xgb_tuned_y_pred)\n",
    "sns.heatmap(conf_matrix, annot=True,cmap='Blues', fmt=\"d\", xticklabels=['Negtive','Neutral','Positive'], yticklabels=['Negtive','Neutral','Positive'])\n",
    "plt.ylabel('Actual')\n",
    "plt.xlabel('Predicted')\n",
    "plt.title(\"Confusion Matrix\")\n",
    "plt.show()\n",
    "\n",
    "# Print the classification report\n",
    "print(classification_report(y_test, xgb_tuned_y_pred,target_names=['Negative','Neutral','Positive']))"
   ]
  },
  {
   "cell_type": "markdown",
   "id": "e5a46dfe",
   "metadata": {},
   "source": [
    "## Word Embeddings\n",
    "We will compare the performance of TF-IDF, XGBoost, and Random Forest models using our custom mean embedding vectorizer class. We will also incorporate pre-trained weights from GloVe, which are considered some of the best pre-trained word vectors and are freely available from the Stanford NLP Group. "
   ]
  },
  {
   "cell_type": "code",
   "execution_count": 80,
   "id": "9fbb68be",
   "metadata": {},
   "outputs": [],
   "source": [
    "from gensim.models import word2vec"
   ]
  },
  {
   "cell_type": "code",
   "execution_count": 81,
   "id": "58673d8e",
   "metadata": {
    "scrolled": true
   },
   "outputs": [
    {
     "data": {
      "text/plain": [
       "0    iphone hrs tweet rise dead need upgrade plugin...\n",
       "1    know awesome ipadiphone app likely appreciate ...\n",
       "2                                  wait ipad also sale\n",
       "3          hope years festival crashy years iphone app\n",
       "4    great stuff fri marissa mayer google tim oreil...\n",
       "Name: Tweet, dtype: object"
      ]
     },
     "execution_count": 81,
     "metadata": {},
     "output_type": "execute_result"
    }
   ],
   "source": [
    " new_df['Tweet'].head()"
   ]
  },
  {
   "cell_type": "code",
   "execution_count": 82,
   "id": "86f612df",
   "metadata": {},
   "outputs": [
    {
     "name": "stdout",
     "output_type": "stream",
     "text": [
      "There are 8616 unique words in the dataset.\n"
     ]
    }
   ],
   "source": [
    "# Seeing how many unique words we have\n",
    "total_unique_words = set(word for tweet in new_df['Tweet'] for word in tweet.split())\n",
    "print('There are {} unique words in the dataset.'.format(len(total_unique_words)))\n"
   ]
  },
  {
   "cell_type": "code",
   "execution_count": 83,
   "id": "51d2b6ff",
   "metadata": {},
   "outputs": [],
   "source": [
    "\n",
    "\n",
    "# Load GloVe word vectors\n",
    "glove = {}\n",
    "with open('glove.6B.50d.txt', 'r', encoding='utf-8') as f:\n",
    "    for line in f:\n",
    "        parts = line.split()\n",
    "        word = parts[0]\n",
    "        if word in total_unique_words:\n",
    "            vector = np.array(parts[1:], dtype=np.float32)\n",
    "            glove[word] = vector\n"
   ]
  },
  {
   "cell_type": "code",
   "execution_count": 84,
   "id": "5603e3c7",
   "metadata": {},
   "outputs": [
    {
     "data": {
      "text/plain": [
       "array([ 1.9511e-01,  5.0739e-01,  1.4709e-03,  4.1914e-02, -1.6759e-01,\n",
       "        3.7517e-02, -1.3970e+00, -9.2398e-01, -2.4296e-01, -1.5171e-01,\n",
       "       -4.7829e-01,  5.4612e-02, -2.4986e-01,  3.8398e-01,  1.6182e-02,\n",
       "        3.4938e-01, -2.2627e-01,  8.6618e-02, -4.1001e-01, -1.8139e-01,\n",
       "        7.5607e-01, -2.6200e-02, -6.9557e-01,  1.0874e-01, -4.7539e-01,\n",
       "       -1.8095e+00, -1.6940e-01, -5.9863e-02, -1.6806e-01, -9.4546e-02,\n",
       "        3.6610e+00,  4.1462e-02, -2.9161e-01, -6.9772e-01,  3.0805e-01,\n",
       "       -2.8457e-01,  1.3217e-01, -7.6430e-03, -9.2390e-02, -4.9237e-01,\n",
       "       -2.7055e-01,  6.0425e-02,  9.5107e-02, -2.3679e-01, -8.6108e-02,\n",
       "        1.0243e+00, -2.2779e-01,  3.0488e-02, -1.4272e-01,  4.5411e-01],\n",
       "      dtype=float32)"
      ]
     },
     "execution_count": 84,
     "metadata": {},
     "output_type": "execute_result"
    }
   ],
   "source": [
    "#checking to see if it worked.\n",
    "glove['new']"
   ]
  },
  {
   "cell_type": "code",
   "execution_count": null,
   "id": "7f500d12",
   "metadata": {},
   "outputs": [],
   "source": []
  },
  {
   "cell_type": "code",
   "execution_count": 85,
   "id": "629f612d",
   "metadata": {},
   "outputs": [],
   "source": [
    "#Creating Custom function\n",
    "class W2vVectorizer(object):\n",
    "    \n",
    "    def __init__(self, w2v):\n",
    "        # Takes in a dictionary of words and vectors as input\n",
    "        self.w2v = w2v\n",
    "        if len(w2v) == 0:\n",
    "            self.dimensions = 0\n",
    "        else:\n",
    "            self.dimensions = len(w2v[next(iter(glove))])\n",
    "    \n",
    "    def transform(self, X):\n",
    "        # Convert each document to a list of words\n",
    "        X_words = [doc.split() for doc in X]\n",
    "        # Compute the document vectors\n",
    "        X_vec = np.array([\n",
    "            np.mean([self.w2v[w] for w in words if w in self.w2v]\n",
    "                    or [np.zeros(self.dimensions)], axis=0)\n",
    "            for words in X_words])\n",
    "        return X_vec\n",
    "        \n",
    "    def fit_transform(self, X, y=None):\n",
    "        return self.transform(X)\n"
   ]
  },
  {
   "cell_type": "code",
   "execution_count": 86,
   "id": "f5ebd34f",
   "metadata": {},
   "outputs": [],
   "source": [
    "\n",
    "# Instantiate the vectorizer object with the pre-trained GloVe model\n",
    "w2v_vectorizer = W2vVectorizer(glove)\n",
    "\n",
    "# Vectorize the training data\n",
    "X_train_vec = w2v_vectorizer.fit_transform(X_train['Tweet'])\n",
    "\n",
    "# Vectorize the test data using the same vectorizer as the training data\n",
    "X_test_vec = w2v_vectorizer.transform(X_test['Tweet'])\n"
   ]
  },
  {
   "cell_type": "code",
   "execution_count": 87,
   "id": "e8eeb288",
   "metadata": {},
   "outputs": [],
   "source": [
    "#Resampling training data\n",
    "X_train_resampled, y_train_resampled = ros.fit_resample(X_train_vec, y_train)"
   ]
  },
  {
   "cell_type": "code",
   "execution_count": 88,
   "id": "6546504a",
   "metadata": {
    "scrolled": true
   },
   "outputs": [],
   "source": [
    "#nb_model.fit(X_train_resampled, y_train_ressampled)\n",
    "rf_model.fit(X_train_resampled, y_train_resampled)\n",
    "xgb_model.fit(X_train_resampled, y_train_resampled)\n",
    "\n",
    "#gnb_preds = nb_model.predict(X_test_vec)\n",
    "grf_preds = rf_model.predict(X_test_vec)\n",
    "gxgb_preds = xgb_model.predict(X_test_vec)\n"
   ]
  },
  {
   "cell_type": "code",
   "execution_count": 89,
   "id": "45f72f24",
   "metadata": {},
   "outputs": [
    {
     "data": {
      "image/png": "[encoded data removed]",
      "text/plain": [
       "<Figure size 432x288 with 2 Axes>"
      ]
     },
     "metadata": {},
     "output_type": "display_data"
    },
    {
     "name": "stdout",
     "output_type": "stream",
     "text": [
      "              precision    recall  f1-score   support\n",
      "\n",
      "    Negative       0.57      0.16      0.26       189\n",
      "     Neutral       0.69      0.82      0.75      1612\n",
      "    Positive       0.56      0.44      0.49       880\n",
      "\n",
      "    accuracy                           0.65      2681\n",
      "   macro avg       0.61      0.48      0.50      2681\n",
      "weighted avg       0.64      0.65      0.63      2681\n",
      "\n"
     ]
    }
   ],
   "source": [
    "# Print the confusion matrix\n",
    "conf_matrix = confusion_matrix(y_test, grf_preds)\n",
    "sns.heatmap(conf_matrix, annot=True,cmap='Blues', fmt=\"d\", xticklabels=['Negtive','Neutral','Positive'], yticklabels=['Negtive','Neutral','Positive'])\n",
    "plt.ylabel('Actual')\n",
    "plt.xlabel('Predicted')\n",
    "plt.title(\"Confusion Matrix\")\n",
    "plt.show()\n",
    "\n",
    "# Print the classification report\n",
    "print(classification_report(y_test, grf_preds,target_names=['Negative','Neutral','Positive']))"
   ]
  },
  {
   "cell_type": "code",
   "execution_count": 90,
   "id": "ae1a428f",
   "metadata": {},
   "outputs": [
    {
     "data": {
      "image/png": "[encoded data removed]",
      "text/plain": [
       "<Figure size 432x288 with 2 Axes>"
      ]
     },
     "metadata": {},
     "output_type": "display_data"
    },
    {
     "name": "stdout",
     "output_type": "stream",
     "text": [
      "              precision    recall  f1-score   support\n",
      "\n",
      "    Negative       0.45      0.21      0.28       189\n",
      "     Neutral       0.70      0.79      0.74      1612\n",
      "    Positive       0.53      0.47      0.50       880\n",
      "\n",
      "    accuracy                           0.64      2681\n",
      "   macro avg       0.56      0.49      0.51      2681\n",
      "weighted avg       0.63      0.64      0.63      2681\n",
      "\n"
     ]
    }
   ],
   "source": [
    "# Print the confusion matrix\n",
    "conf_matrix = confusion_matrix(y_test, gxgb_preds)\n",
    "sns.heatmap(conf_matrix, annot=True,cmap='Blues', fmt=\"d\", xticklabels=['Negtive','Neutral','Positive'], yticklabels=['Negtive','Neutral','Positive'])\n",
    "plt.ylabel('Actual')\n",
    "plt.xlabel('Predicted')\n",
    "plt.title(\"Confusion Matrix\")\n",
    "plt.show()\n",
    "\n",
    "# Print the classification report\n",
    "print(classification_report(y_test, gxgb_preds,target_names=['Negative','Neutral','Positive']))"
   ]
  },
  {
   "cell_type": "markdown",
   "id": "13b05a44",
   "metadata": {},
   "source": [
    "# Deep learning withTFIDF and wordd Eembeddings"
   ]
  },
  {
   "cell_type": "code",
   "execution_count": 92,
   "id": "8c7dead4",
   "metadata": {},
   "outputs": [],
   "source": [
    "from keras.preprocessing.sequence import pad_sequences\n",
    "from keras.layers import Input, Dense, LSTM, Embedding\n",
    "from keras.layers import Dropout, Activation, Bidirectional, GlobalMaxPool1D\n",
    "from keras.models import Sequential\n",
    "from keras import initializers, regularizers, constraints, optimizers, layers\n",
    "from keras.preprocessing import text, sequence\n",
    "from keras.utils import to_categorical"
   ]
  },
  {
   "cell_type": "code",
   "execution_count": 93,
   "id": "2c9159df",
   "metadata": {},
   "outputs": [],
   "source": [
    "from keras.preprocessing.text import Tokenizer\n",
    "\n",
    "tokenizer = Tokenizer()\n",
    "tokenizer.fit_on_texts(new_df['Tweet'])\n",
    "X = tokenizer.texts_to_sequences(new_df['Tweet'])\n"
   ]
  },
  {
   "cell_type": "code",
   "execution_count": 94,
   "id": "06e935ab",
   "metadata": {},
   "outputs": [],
   "source": [
    "\n",
    "from keras.preprocessing.sequence import pad_sequences\n",
    "\n",
    "maxlen = 100\n",
    "X = pad_sequences(X, padding='post', maxlen=maxlen)"
   ]
  },
  {
   "cell_type": "code",
   "execution_count": 95,
   "id": "c2e72fcf",
   "metadata": {},
   "outputs": [],
   "source": [
    "X_tfidf = tfidf_vectorizer.fit_transform(new_df['Tweet'])"
   ]
  },
  {
   "cell_type": "code",
   "execution_count": 96,
   "id": "b6899f9e",
   "metadata": {},
   "outputs": [],
   "source": [
    "from scipy.sparse import csr_matrix\n",
    "\n",
    "maxlen = 100\n",
    "\n",
    "X_tfidf = csr_matrix.toarray(X_tfidf)\n",
    "X_tfidf = pad_sequences(X_tfidf, padding='post', maxlen=maxlen)\n",
    "\n",
    "\n"
   ]
  },
  {
   "cell_type": "code",
   "execution_count": 124,
   "id": "2e643624",
   "metadata": {},
   "outputs": [],
   "source": [
    "#Train test split\n",
    "X_train_tfidf, X_test_tfidf, y_train, y_test = train_test_split(X_tfidf, new_df['Emotion'], test_size=0.2, random_state=42, stratify=new_df['Emotion'])"
   ]
  },
  {
   "cell_type": "code",
   "execution_count": 125,
   "id": "fe85407f",
   "metadata": {},
   "outputs": [],
   "source": [
    "X_train_tfidf, y_train = ros.fit_resample(X_train_tfidf, y_train)"
   ]
  },
  {
   "cell_type": "code",
   "execution_count": 134,
   "id": "b9f9d17d",
   "metadata": {},
   "outputs": [],
   "source": [
    "from sklearn.preprocessing import LabelEncoder\n",
    "\n",
    "le = LabelEncoder()\n",
    "y_train_encoded = le.fit_transform(y_train)\n",
    "y_test_encoded = le.fit_transform(y_test)"
   ]
  },
  {
   "cell_type": "code",
   "execution_count": 127,
   "id": "7c731185",
   "metadata": {},
   "outputs": [
    {
     "name": "stdout",
     "output_type": "stream",
     "text": [
      "{0: 570, 1: 5388, 2: 2978}\n"
     ]
    }
   ],
   "source": [
    "unique, counts = np.unique(new_df['Emotion'], return_counts=True)\n",
    "print(dict(zip(unique, counts)))"
   ]
  },
  {
   "cell_type": "code",
   "execution_count": 129,
   "id": "e296a21e",
   "metadata": {},
   "outputs": [
    {
     "data": {
      "text/plain": [
       "2    4310\n",
       "1    4310\n",
       "0    4310\n",
       "Name: Emotion, dtype: int64"
      ]
     },
     "execution_count": 129,
     "metadata": {},
     "output_type": "execute_result"
    }
   ],
   "source": [
    "y_train.value_counts()"
   ]
  },
  {
   "cell_type": "code",
   "execution_count": 131,
   "id": "1d5a9749",
   "metadata": {},
   "outputs": [
    {
     "name": "stdout",
     "output_type": "stream",
     "text": [
      "{0: 4310, 1: 4310, 2: 4310}\n"
     ]
    }
   ],
   "source": [
    "unique, counts = np.unique(y_train_encoded, return_counts=True)\n",
    "print(dict(zip(unique, counts)))"
   ]
  },
  {
   "cell_type": "code",
   "execution_count": 151,
   "id": "35774eeb",
   "metadata": {},
   "outputs": [
    {
     "name": "stdout",
     "output_type": "stream",
     "text": [
      "Epoch 1/10\n",
      "102/102 [==============================] - 20s 195ms/step - loss: 1.0993 - sparse_categorical_accuracy: 0.3384 - val_loss: 1.1243 - val_sparse_categorical_accuracy: 0.0638\n",
      "Epoch 2/10\n",
      "102/102 [==============================] - 21s 206ms/step - loss: 1.0990 - sparse_categorical_accuracy: 0.3370 - val_loss: 1.1027 - val_sparse_categorical_accuracy: 0.3333\n",
      "Epoch 3/10\n",
      "102/102 [==============================] - 23s 223ms/step - loss: 1.0993 - sparse_categorical_accuracy: 0.3301 - val_loss: 1.0947 - val_sparse_categorical_accuracy: 0.3333\n",
      "Epoch 4/10\n",
      "102/102 [==============================] - 21s 208ms/step - loss: 1.0989 - sparse_categorical_accuracy: 0.3254 - val_loss: 1.1019 - val_sparse_categorical_accuracy: 0.0638\n",
      "Epoch 5/10\n",
      "102/102 [==============================] - 21s 209ms/step - loss: 1.0988 - sparse_categorical_accuracy: 0.3323 - val_loss: 1.0934 - val_sparse_categorical_accuracy: 0.3333\n",
      "Epoch 6/10\n",
      "102/102 [==============================] - 21s 210ms/step - loss: 1.0989 - sparse_categorical_accuracy: 0.3329 - val_loss: 1.0985 - val_sparse_categorical_accuracy: 0.6029\n",
      "Epoch 7/10\n",
      "102/102 [==============================] - 23s 221ms/step - loss: 1.0987 - sparse_categorical_accuracy: 0.3302 - val_loss: 1.1000 - val_sparse_categorical_accuracy: 0.0638\n",
      "Epoch 8/10\n",
      "102/102 [==============================] - 22s 216ms/step - loss: 1.0988 - sparse_categorical_accuracy: 0.3329 - val_loss: 1.0928 - val_sparse_categorical_accuracy: 0.3333\n",
      "Epoch 9/10\n",
      "102/102 [==============================] - 20s 193ms/step - loss: 1.0988 - sparse_categorical_accuracy: 0.3288 - val_loss: 1.0966 - val_sparse_categorical_accuracy: 0.6029\n",
      "Epoch 10/10\n",
      "102/102 [==============================] - 20s 198ms/step - loss: 1.0988 - sparse_categorical_accuracy: 0.3295 - val_loss: 1.0952 - val_sparse_categorical_accuracy: 0.6029\n"
     ]
    },
    {
     "data": {
      "text/plain": [
       "<tensorflow.python.keras.callbacks.History at 0x7f8e0b90b610>"
      ]
     },
     "execution_count": 151,
     "metadata": {},
     "output_type": "execute_result"
    }
   ],
   "source": [
    "model = Sequential()\n",
    "model.add(Embedding(input_dim=X_tfidf.shape[1], output_dim=128, input_length=maxlen))\n",
    "model.add(LSTM(128))\n",
    "model.add(Dense(3, activation='softmax'))\n",
    "model.compile(optimizer='adam', loss='sparse_categorical_crossentropy', metrics=['sparse_categorical_accuracy'])\n",
    "\n",
    "model.fit(X_train_tfidf, y_train_encoded, validation_data=(X_test_tfidf, y_test_encoded), epochs=10, batch_size=128)"
   ]
  },
  {
   "cell_type": "code",
   "execution_count": 152,
   "id": "a8ab868b",
   "metadata": {
    "scrolled": true
   },
   "outputs": [
    {
     "name": "stdout",
     "output_type": "stream",
     "text": [
      "Model: \"sequential_11\"\n",
      "_________________________________________________________________\n",
      "Layer (type)                 Output Shape              Param #   \n",
      "=================================================================\n",
      "embedding_11 (Embedding)     (None, 100, 128)          12800     \n",
      "_________________________________________________________________\n",
      "lstm_13 (LSTM)               (None, 128)               131584    \n",
      "_________________________________________________________________\n",
      "dense_7 (Dense)              (None, 3)                 387       \n",
      "=================================================================\n",
      "Total params: 144,771\n",
      "Trainable params: 144,771\n",
      "Non-trainable params: 0\n",
      "_________________________________________________________________\n"
     ]
    }
   ],
   "source": [
    "model.summary()"
   ]
  },
  {
   "cell_type": "code",
   "execution_count": 153,
   "id": "c81d6273",
   "metadata": {
    "scrolled": true
   },
   "outputs": [],
   "source": [
    "# Make predictions on the test set\n",
    "y_pred = model.predict(X_test_tfidf)\n",
    "\n",
    "# Convert the predictions from probabilities to class labels\n",
    "#y_pred = np.argmax(y_pred, axis=1)\n",
    "y_pred_classes = np.argmax(y_pred, axis=1)[:len(y_true)]\n",
    "\n",
    "y_true = y_test_encoded\n",
    "\n",
    "# Calculate the confusion matrix\n",
    "conf_matrix = confusion_matrix(y_true, y_pred_classes)"
   ]
  },
  {
   "cell_type": "code",
   "execution_count": 154,
   "id": "11654ad1",
   "metadata": {},
   "outputs": [
    {
     "data": {
      "image/png": "[encoded data removed]",
      "text/plain": [
       "<Figure size 432x288 with 2 Axes>"
      ]
     },
     "metadata": {},
     "output_type": "display_data"
    },
    {
     "name": "stdout",
     "output_type": "stream",
     "text": [
      "              precision    recall  f1-score   support\n",
      "\n",
      "    Negative       0.00      0.00      0.00       114\n",
      "     Neutral       0.60      1.00      0.75      1078\n",
      "    Positive       0.00      0.00      0.00       596\n",
      "\n",
      "    accuracy                           0.60      1788\n",
      "   macro avg       0.20      0.33      0.25      1788\n",
      "weighted avg       0.36      0.60      0.45      1788\n",
      "\n"
     ]
    },
    {
     "name": "stderr",
     "output_type": "stream",
     "text": [
      "/Users/a23/opt/anaconda3/envs/learn-env/lib/python3.8/site-packages/sklearn/metrics/_classification.py:1221: UndefinedMetricWarning: Precision and F-score are ill-defined and being set to 0.0 in labels with no predicted samples. Use `zero_division` parameter to control this behavior.\n",
      "  _warn_prf(average, modifier, msg_start, len(result))\n"
     ]
    }
   ],
   "source": [
    "# Plot the confusion matrix\n",
    "sns.heatmap(conf_matrix, annot=True, cmap='Blues', fmt=\"d\", xticklabels=['Negative','Neutral','Positive'], yticklabels=['Negative','Neutral','Positive'])\n",
    "plt.ylabel('Actual')\n",
    "plt.xlabel('Predicted')\n",
    "plt.title(\"Confusion Matrix\")\n",
    "plt.show()\n",
    "\n",
    "# Print the classification report\n",
    "print(classification_report(y_true, y_pred_classes, target_names=['Negative','Neutral','Positive']))"
   ]
  },
  {
   "cell_type": "code",
   "execution_count": 212,
   "id": "c2c57499",
   "metadata": {},
   "outputs": [],
   "source": [
    "# Split the data into training and testing sets\n",
    "X_train, X_test, y_train, y_test = train_test_split(new_df['Tweet'], new_df['Emotion'], test_size=0.2, random_state=42, stratify=new_df['Emotion'])\n"
   ]
  },
  {
   "cell_type": "code",
   "execution_count": 224,
   "id": "083ca03e",
   "metadata": {},
   "outputs": [],
   "source": [
    "# Tokenize the text data\n",
    "tokenizer = Tokenizer(num_words=5000)\n",
    "tokenizer.fit_on_texts(X_train)"
   ]
  },
  {
   "cell_type": "code",
   "execution_count": 225,
   "id": "a038c5bd",
   "metadata": {},
   "outputs": [],
   "source": [
    "# Convert the text data to sequences\n",
    "X_train_seq = tokenizer.texts_to_sequences(X_train)\n",
    "X_test_seq = tokenizer.texts_to_sequences(X_test)"
   ]
  },
  {
   "cell_type": "code",
   "execution_count": 226,
   "id": "f88feed9",
   "metadata": {},
   "outputs": [],
   "source": [
    "# Pad sequences to ensure equal length vectors\n",
    "X_train_padded = pad_sequences(X_train_seq, padding='post', maxlen=maxlen)\n",
    "X_test_padded = pad_sequences(X_test_seq, padding='post', maxlen=maxlen)"
   ]
  },
  {
   "cell_type": "code",
   "execution_count": 227,
   "id": "c3a0d2ee",
   "metadata": {},
   "outputs": [],
   "source": [
    "X_train_resampled, y_train_resampled = ros.fit_resample(X_train_padded, y_train)"
   ]
  },
  {
   "cell_type": "code",
   "execution_count": 228,
   "id": "c5e362c0",
   "metadata": {},
   "outputs": [],
   "source": [
    "y_train_encoded = le.fit_transform(y_train_resampled)\n",
    "y_test_encoded = le.fit_transform(y_test)"
   ]
  },
  {
   "cell_type": "code",
   "execution_count": 229,
   "id": "61eefc50",
   "metadata": {},
   "outputs": [],
   "source": [
    "# Define vocabulary size and maximum tweet length\n",
    "vocabulary_size = len(total_unique_words) + 1\n",
    "maxlen = max([len(tweet.split()) for tweet in new_df['Tweet']])"
   ]
  },
  {
   "cell_type": "code",
   "execution_count": 230,
   "id": "30a995a8",
   "metadata": {},
   "outputs": [],
   "source": [
    "# Create a weight matrix for words in training data\n",
    "embedding_matrix = np.zeros((vocabulary_size, 50))\n",
    "for word, i in tokenizer.word_index.items():\n",
    "    if i >= vocabulary_size:\n",
    "        continue\n",
    "    embedding_vector = glove.get(word)\n",
    "    if embedding_vector is not None:\n",
    "        embedding_matrix[i] = embedding_vector"
   ]
  },
  {
   "cell_type": "code",
   "execution_count": 242,
   "id": "260ac2f0",
   "metadata": {},
   "outputs": [],
   "source": [
    "# Create an embedding layer\n",
    "embedding_layer = Embedding(vocabulary_size, 50, weights=[embedding_matrix], input_length=19, trainable=False)"
   ]
  },
  {
   "cell_type": "code",
   "execution_count": 243,
   "id": "fc08faad",
   "metadata": {},
   "outputs": [
    {
     "name": "stdout",
     "output_type": "stream",
     "text": [
      "Epoch 1/10\n",
      "102/102 [==============================] - 5s 48ms/step - loss: 0.9909 - sparse_categorical_accuracy: 0.4997 - val_loss: 0.9652 - val_sparse_categorical_accuracy: 0.5112\n",
      "Epoch 2/10\n",
      "102/102 [==============================] - 5s 47ms/step - loss: 0.9232 - sparse_categorical_accuracy: 0.5588 - val_loss: 0.8875 - val_sparse_categorical_accuracy: 0.5263\n",
      "Epoch 3/10\n",
      "102/102 [==============================] - 5s 49ms/step - loss: 0.8708 - sparse_categorical_accuracy: 0.5952 - val_loss: 0.9591 - val_sparse_categorical_accuracy: 0.5246\n",
      "Epoch 4/10\n",
      "102/102 [==============================] - 5s 48ms/step - loss: 0.8214 - sparse_categorical_accuracy: 0.6189 - val_loss: 0.9031 - val_sparse_categorical_accuracy: 0.5246\n",
      "Epoch 5/10\n",
      "102/102 [==============================] - 5s 46ms/step - loss: 0.7565 - sparse_categorical_accuracy: 0.6503 - val_loss: 0.9194 - val_sparse_categorical_accuracy: 0.5570\n",
      "Epoch 6/10\n",
      "102/102 [==============================] - 5s 45ms/step - loss: 0.6987 - sparse_categorical_accuracy: 0.6754 - val_loss: 0.8326 - val_sparse_categorical_accuracy: 0.6152\n",
      "Epoch 7/10\n",
      "102/102 [==============================] - 5s 51ms/step - loss: 0.6690 - sparse_categorical_accuracy: 0.6916 - val_loss: 0.9374 - val_sparse_categorical_accuracy: 0.5576\n",
      "Epoch 8/10\n",
      "102/102 [==============================] - 5s 46ms/step - loss: 0.6282 - sparse_categorical_accuracy: 0.7144 - val_loss: 0.8160 - val_sparse_categorical_accuracy: 0.6174\n",
      "Epoch 9/10\n",
      "102/102 [==============================] - 5s 45ms/step - loss: 0.6463 - sparse_categorical_accuracy: 0.7037 - val_loss: 0.8953 - val_sparse_categorical_accuracy: 0.5889\n",
      "Epoch 10/10\n",
      "102/102 [==============================] - 5s 50ms/step - loss: 0.5885 - sparse_categorical_accuracy: 0.7323 - val_loss: 0.9491 - val_sparse_categorical_accuracy: 0.5576\n"
     ]
    },
    {
     "data": {
      "text/plain": [
       "<tensorflow.python.keras.callbacks.History at 0x7f8e13b4ab80>"
      ]
     },
     "execution_count": 243,
     "metadata": {},
     "output_type": "execute_result"
    }
   ],
   "source": [
    "w2_model = Sequential()\n",
    "w2_model.add(embedding_layer)\n",
    "w2_model.add(LSTM(128, dropout=0.2, recurrent_dropout=0.2))\n",
    "w2_model.add(Dense(3, activation='softmax'))\n",
    "w2_model.compile(optimizer='adam', loss='sparse_categorical_crossentropy', metrics=['sparse_categorical_accuracy'])\n",
    "\n",
    "w2_model.fit(X_train_resampled, y_train_encoded, validation_data=(X_test_padded, y_test_encoded), epochs=10, batch_size=128)"
   ]
  },
  {
   "cell_type": "code",
   "execution_count": 236,
   "id": "37c1f647",
   "metadata": {},
   "outputs": [
    {
     "name": "stdout",
     "output_type": "stream",
     "text": [
      "(1788, 19)\n"
     ]
    }
   ],
   "source": [
    "print(X_test_padded.shape)"
   ]
  },
  {
   "cell_type": "code",
   "execution_count": 241,
   "id": "3087a6f9",
   "metadata": {},
   "outputs": [
    {
     "name": "stdout",
     "output_type": "stream",
     "text": [
      "(12930, 19)\n"
     ]
    }
   ],
   "source": [
    "print(X_train_resampled.shape)"
   ]
  },
  {
   "cell_type": "code",
   "execution_count": 244,
   "id": "5eaa01cc",
   "metadata": {
    "scrolled": false
   },
   "outputs": [
    {
     "name": "stdout",
     "output_type": "stream",
     "text": [
      "Model: \"sequential_29\"\n",
      "_________________________________________________________________\n",
      "Layer (type)                 Output Shape              Param #   \n",
      "=================================================================\n",
      "embedding_27 (Embedding)     (None, 19, 50)            430850    \n",
      "_________________________________________________________________\n",
      "lstm_26 (LSTM)               (None, 128)               91648     \n",
      "_________________________________________________________________\n",
      "dense_20 (Dense)             (None, 3)                 387       \n",
      "=================================================================\n",
      "Total params: 522,885\n",
      "Trainable params: 92,035\n",
      "Non-trainable params: 430,850\n",
      "_________________________________________________________________\n"
     ]
    }
   ],
   "source": [
    "w2_model.summary()"
   ]
  },
  {
   "cell_type": "code",
   "execution_count": 245,
   "id": "492fcde6",
   "metadata": {},
   "outputs": [],
   "source": [
    "# Make predictions on the test set\n",
    "y_pred = w2_model.predict(X_test_padded)\n",
    "\n",
    "# Convert the predictions from probabilities to class labels\n",
    "\n",
    "y_pred_classes = np.argmax(y_pred, axis=1)[:len(y_true)]\n",
    "\n",
    "y_true = y_test_encoded\n",
    "\n",
    "# Calculate the confusion matrix\n",
    "conf_matrix = confusion_matrix(y_true, y_pred_classes)"
   ]
  },
  {
   "cell_type": "code",
   "execution_count": 246,
   "id": "3c1b0339",
   "metadata": {},
   "outputs": [
    {
     "data": {
      "image/png": "[encoded data removed]",
      "text/plain": [
       "<Figure size 432x288 with 2 Axes>"
      ]
     },
     "metadata": {},
     "output_type": "display_data"
    },
    {
     "name": "stdout",
     "output_type": "stream",
     "text": [
      "              precision    recall  f1-score   support\n",
      "\n",
      "    Negative       0.20      0.65      0.31       114\n",
      "     Neutral       0.76      0.56      0.64      1078\n",
      "    Positive       0.51      0.54      0.52       596\n",
      "\n",
      "    accuracy                           0.56      1788\n",
      "   macro avg       0.49      0.58      0.49      1788\n",
      "weighted avg       0.64      0.56      0.58      1788\n",
      "\n"
     ]
    }
   ],
   "source": [
    "# Plot the confusion matrix\n",
    "sns.heatmap(conf_matrix, annot=True, cmap='Blues', fmt=\"d\", xticklabels=['Negative','Neutral','Positive'], yticklabels=['Negative','Neutral','Positive'])\n",
    "plt.ylabel('Actual')\n",
    "plt.xlabel('Predicted')\n",
    "plt.title(\"Confusion Matrix\")\n",
    "plt.show()\n",
    "\n",
    "# Print the classification report\n",
    "print(classification_report(y_true, y_pred_classes, target_names=['Negative','Neutral','Positive']))"
   ]
  },
  {
   "cell_type": "markdown",
   "id": "101f8c3d",
   "metadata": {},
   "source": [
    "# Lets now try binary classification:"
   ]
  },
  {
   "cell_type": "code",
   "execution_count": 280,
   "id": "58499f9d",
   "metadata": {
    "scrolled": true
   },
   "outputs": [],
   "source": [
    "# Drop rows with neutral emotion\n",
    "new_binary = new_df[new_df['Emotion'] != 1].copy()\n",
    "\n"
   ]
  },
  {
   "cell_type": "code",
   "execution_count": 281,
   "id": "7940efa6",
   "metadata": {},
   "outputs": [
    {
     "data": {
      "text/plain": [
       "2    2978\n",
       "0     570\n",
       "Name: Emotion, dtype: int64"
      ]
     },
     "execution_count": 281,
     "metadata": {},
     "output_type": "execute_result"
    }
   ],
   "source": [
    "new_binary['Emotion'].value_counts()"
   ]
  },
  {
   "cell_type": "code",
   "execution_count": 282,
   "id": "f7853c60",
   "metadata": {},
   "outputs": [],
   "source": [
    "def number_map(x):\n",
    "    if x == 2:\n",
    "        return 1\n",
    "    else:\n",
    "        return 0"
   ]
  },
  {
   "cell_type": "code",
   "execution_count": 283,
   "id": "45e99596",
   "metadata": {},
   "outputs": [],
   "source": [
    "new_binary['Emotion'] = new_binary['Emotion'].apply(number_map)\n"
   ]
  },
  {
   "cell_type": "code",
   "execution_count": 284,
   "id": "2a0043db",
   "metadata": {},
   "outputs": [
    {
     "data": {
      "text/plain": [
       "1    2978\n",
       "0     570\n",
       "Name: Emotion, dtype: int64"
      ]
     },
     "execution_count": 284,
     "metadata": {},
     "output_type": "execute_result"
    }
   ],
   "source": [
    "new_binary['Emotion'].value_counts()"
   ]
  },
  {
   "cell_type": "code",
   "execution_count": 285,
   "id": "548ce8f1",
   "metadata": {},
   "outputs": [],
   "source": [
    "# split data into features and target variable\n",
    "X = new_binary.drop(['Emotion'], axis=1)\n",
    "y = new_binary['Emotion']"
   ]
  },
  {
   "cell_type": "code",
   "execution_count": 286,
   "id": "972fb364",
   "metadata": {},
   "outputs": [],
   "source": [
    "X_train, X_test, y_train, y_test = train_test_split(X, y, test_size=0.3, random_state=42)\n"
   ]
  },
  {
   "cell_type": "code",
   "execution_count": 287,
   "id": "9a768a72",
   "metadata": {},
   "outputs": [],
   "source": [
    "# Fit and transform the training data\n",
    "X_train_tfidf = tfidf_vectorizer.fit_transform(X_train['Tweet'])\n",
    "# Transform the test data\n",
    "X_test_tfidf = tfidf_vectorizer.transform(X_test['Tweet'])\n"
   ]
  },
  {
   "cell_type": "code",
   "execution_count": 292,
   "id": "53f0112e",
   "metadata": {},
   "outputs": [],
   "source": [
    "# Fit the training data\n",
    "X_train_res, y_train_res = ros.fit_resample(X_train_tfidf, y_train)\n"
   ]
  },
  {
   "cell_type": "code",
   "execution_count": 295,
   "id": "330d0eb3",
   "metadata": {},
   "outputs": [
    {
     "data": {
      "text/plain": [
       "1    2086\n",
       "0    2086\n",
       "Name: Emotion, dtype: int64"
      ]
     },
     "execution_count": 295,
     "metadata": {},
     "output_type": "execute_result"
    }
   ],
   "source": [
    "y_train_res.value_counts()"
   ]
  },
  {
   "cell_type": "code",
   "execution_count": 296,
   "id": "54c875c8",
   "metadata": {},
   "outputs": [
    {
     "data": {
      "text/plain": [
       "MultinomialNB()"
      ]
     },
     "execution_count": 296,
     "metadata": {},
     "output_type": "execute_result"
    }
   ],
   "source": [
    "#Fit the models with the resampled training data\n",
    "nb_model.fit(X_train_res, y_train_res)"
   ]
  },
  {
   "cell_type": "code",
   "execution_count": 297,
   "id": "e926d97b",
   "metadata": {},
   "outputs": [],
   "source": [
    "# Predict the test data\n",
    "y_pred = nb_model.predict(X_test_tfidf)"
   ]
  },
  {
   "cell_type": "code",
   "execution_count": 300,
   "id": "27053d46",
   "metadata": {},
   "outputs": [
    {
     "data": {
      "image/png": "[encoded data removed]",
      "text/plain": [
       "<Figure size 432x288 with 2 Axes>"
      ]
     },
     "metadata": {},
     "output_type": "display_data"
    },
    {
     "name": "stdout",
     "output_type": "stream",
     "text": [
      "              precision    recall  f1-score   support\n",
      "\n",
      "    Negative       0.47      0.66      0.55       173\n",
      "    Positive       0.93      0.85      0.89       892\n",
      "\n",
      "    accuracy                           0.82      1065\n",
      "   macro avg       0.70      0.76      0.72      1065\n",
      "weighted avg       0.85      0.82      0.83      1065\n",
      "\n"
     ]
    }
   ],
   "source": [
    "# Print the confusion matrix\n",
    "conf_matrix = confusion_matrix(y_test, y_pred)\n",
    "sns.heatmap(conf_matrix, annot=True,cmap='Blues', fmt=\"d\",xticklabels=['Negtive','Positive'], yticklabels=['Negtive','Positive'])\n",
    "plt.ylabel('Actual')\n",
    "plt.xlabel('Predicted')\n",
    "plt.title(\"Confusion Matrix\")\n",
    "plt.show()\n",
    "# Print the classification report\n",
    "print(classification_report(y_test, y_pred,target_names=['Negative','Positive']))"
   ]
  },
  {
   "cell_type": "code",
   "execution_count": null,
   "id": "fbed0827",
   "metadata": {},
   "outputs": [],
   "source": [
    "# RF"
   ]
  },
  {
   "cell_type": "code",
   "execution_count": 308,
   "id": "902272ca",
   "metadata": {},
   "outputs": [],
   "source": [
    "rf_model = RandomForestClassifier()"
   ]
  },
  {
   "cell_type": "code",
   "execution_count": 309,
   "id": "87dd3c72",
   "metadata": {},
   "outputs": [
    {
     "data": {
      "text/plain": [
       "RandomForestClassifier()"
      ]
     },
     "execution_count": 309,
     "metadata": {},
     "output_type": "execute_result"
    }
   ],
   "source": [
    "#Fit the models with the resampled training data\n",
    "rf_model.fit(X_train_res, y_train_res)"
   ]
  },
  {
   "cell_type": "code",
   "execution_count": 310,
   "id": "050dbd52",
   "metadata": {},
   "outputs": [],
   "source": [
    "# Predict the test data\n",
    "rf_pred = rf_model.predict(X_test_tfidf)"
   ]
  },
  {
   "cell_type": "code",
   "execution_count": 311,
   "id": "dcbe25f1",
   "metadata": {},
   "outputs": [
    {
     "data": {
      "image/png": "[encoded data removed]",
      "text/plain": [
       "<Figure size 432x288 with 2 Axes>"
      ]
     },
     "metadata": {},
     "output_type": "display_data"
    },
    {
     "name": "stdout",
     "output_type": "stream",
     "text": [
      "              precision    recall  f1-score   support\n",
      "\n",
      "    Negative       0.69      0.32      0.44       173\n",
      "    Positive       0.88      0.97      0.92       892\n",
      "\n",
      "    accuracy                           0.87      1065\n",
      "   macro avg       0.79      0.65      0.68      1065\n",
      "weighted avg       0.85      0.87      0.85      1065\n",
      "\n"
     ]
    }
   ],
   "source": [
    "# Print the confusion matrix\n",
    "conf_matrix = confusion_matrix(y_test, rf_pred)\n",
    "sns.heatmap(conf_matrix, annot=True,cmap='Blues', fmt=\"d\", xticklabels=['Negtive','Positive'], yticklabels=['Negtive','Positive'])\n",
    "plt.ylabel('Actual')\n",
    "plt.xlabel('Predicted')\n",
    "plt.title(\"Confusion Matrix\")\n",
    "plt.show()\n",
    "\n",
    "# Print the classification report\n",
    "print(classification_report(y_test, rf_pred,target_names=['Negative','Positive']))"
   ]
  },
  {
   "cell_type": "code",
   "execution_count": null,
   "id": "4d0300c1",
   "metadata": {},
   "outputs": [],
   "source": [
    "# XGB"
   ]
  },
  {
   "cell_type": "code",
   "execution_count": 304,
   "id": "1df74d16",
   "metadata": {},
   "outputs": [],
   "source": [
    "# Initialize the XGBClassifier\n",
    "xgb_model = XGBClassifier()\n"
   ]
  },
  {
   "cell_type": "code",
   "execution_count": 305,
   "id": "28a064cf",
   "metadata": {},
   "outputs": [
    {
     "data": {
      "text/plain": [
       "XGBClassifier(base_score=0.5, booster='gbtree', colsample_bylevel=1,\n",
       "              colsample_bynode=1, colsample_bytree=1, gamma=0, gpu_id=-1,\n",
       "              importance_type='gain', interaction_constraints='',\n",
       "              learning_rate=0.300000012, max_delta_step=0, max_depth=6,\n",
       "              min_child_weight=1, missing=nan, monotone_constraints='()',\n",
       "              n_estimators=100, n_jobs=0, num_parallel_tree=1, random_state=0,\n",
       "              reg_alpha=0, reg_lambda=1, scale_pos_weight=1, subsample=1,\n",
       "              tree_method='exact', validate_parameters=1, verbosity=None)"
      ]
     },
     "execution_count": 305,
     "metadata": {},
     "output_type": "execute_result"
    }
   ],
   "source": [
    "#Fit the models with the resampled training data\n",
    "xgb_model.fit(X_train_res, y_train_res)"
   ]
  },
  {
   "cell_type": "code",
   "execution_count": 306,
   "id": "2e445802",
   "metadata": {},
   "outputs": [],
   "source": [
    "# Predict the test data\n",
    "xgb_pred = xgb_model.predict(X_test_tfidf)"
   ]
  },
  {
   "cell_type": "code",
   "execution_count": 307,
   "id": "2573886b",
   "metadata": {},
   "outputs": [
    {
     "data": {
      "image/png": "[encoded data removed]",
      "text/plain": [
       "<Figure size 432x288 with 2 Axes>"
      ]
     },
     "metadata": {},
     "output_type": "display_data"
    },
    {
     "name": "stdout",
     "output_type": "stream",
     "text": [
      "              precision    recall  f1-score   support\n",
      "\n",
      "    Negative       0.50      0.54      0.52       173\n",
      "    Positive       0.91      0.90      0.90       892\n",
      "\n",
      "    accuracy                           0.84      1065\n",
      "   macro avg       0.71      0.72      0.71      1065\n",
      "weighted avg       0.84      0.84      0.84      1065\n",
      "\n"
     ]
    }
   ],
   "source": [
    "# Print the confusion matrix\n",
    "conf_matrix = confusion_matrix(y_test, xgb_pred)\n",
    "sns.heatmap(conf_matrix, annot=True,cmap='Blues', fmt=\"d\", xticklabels=['Negtive','Positive'], yticklabels=['Negtive','Positive'])\n",
    "plt.ylabel('Actual')\n",
    "plt.xlabel('Predicted')\n",
    "plt.title(\"Confusion Matrix\")\n",
    "plt.show()\n",
    "\n",
    "# Print the classification report\n",
    "print(classification_report(y_test, xgb_pred,target_names=['Negative','Positive']))"
   ]
  },
  {
   "cell_type": "code",
   "execution_count": 312,
   "id": "f5318262",
   "metadata": {},
   "outputs": [],
   "source": [
    "#binary with word embeddding:\n",
    "# Vectorize the training data\n",
    "X_train_vec = w2v_vectorizer.fit_transform(X_train['Tweet'])\n",
    "\n",
    "# Vectorize the test data using the same vectorizer as the training data\n",
    "X_test_vec = w2v_vectorizer.transform(X_test['Tweet'])\n"
   ]
  },
  {
   "cell_type": "code",
   "execution_count": 313,
   "id": "34f30925",
   "metadata": {},
   "outputs": [],
   "source": [
    "#Resampling training data\n",
    "X_train_resampled, y_train_resampled = ros.fit_resample(X_train_vec, y_train)"
   ]
  },
  {
   "cell_type": "code",
   "execution_count": 314,
   "id": "2348ef9f",
   "metadata": {},
   "outputs": [],
   "source": [
    "#nb_model.fit(X_train_resampled, y_train_ressampled)\n",
    "rf_model.fit(X_train_resampled, y_train_resampled)\n",
    "xgb_model.fit(X_train_resampled, y_train_resampled)\n",
    "\n",
    "#gnb_preds = nb_model.predict(X_test_vec)\n",
    "grf_preds = rf_model.predict(X_test_vec)\n",
    "gxgb_preds = xgb_model.predict(X_test_vec)"
   ]
  },
  {
   "cell_type": "code",
   "execution_count": 317,
   "id": "aa083b42",
   "metadata": {},
   "outputs": [
    {
     "data": {
      "image/png": "[encoded data removed]",
      "text/plain": [
       "<Figure size 432x288 with 2 Axes>"
      ]
     },
     "metadata": {},
     "output_type": "display_data"
    },
    {
     "name": "stdout",
     "output_type": "stream",
     "text": [
      "              precision    recall  f1-score   support\n",
      "\n",
      "    Negative       0.74      0.26      0.38       173\n",
      "    Positive       0.87      0.98      0.92       892\n",
      "\n",
      "    accuracy                           0.86      1065\n",
      "   macro avg       0.81      0.62      0.65      1065\n",
      "weighted avg       0.85      0.86      0.84      1065\n",
      "\n"
     ]
    }
   ],
   "source": [
    "# Print the confusion matrix\n",
    "conf_matrix = confusion_matrix(y_test, grf_preds)\n",
    "sns.heatmap(conf_matrix, annot=True,cmap='Blues', fmt=\"d\", xticklabels=['Negtive','Positive'], yticklabels=['Negtive','Positive'])\n",
    "plt.ylabel('Actual')\n",
    "plt.xlabel('Predicted')\n",
    "plt.title(\"Confusion Matrix RandomForest\")\n",
    "plt.show()\n",
    "\n",
    "# Print the classification report\n",
    "print(classification_report(y_test, grf_preds,target_names=['Negative','Positive']))"
   ]
  },
  {
   "cell_type": "code",
   "execution_count": 318,
   "id": "235a9ce0",
   "metadata": {},
   "outputs": [
    {
     "data": {
      "image/png": "[encoded data removed]",
      "text/plain": [
       "<Figure size 432x288 with 2 Axes>"
      ]
     },
     "metadata": {},
     "output_type": "display_data"
    },
    {
     "name": "stdout",
     "output_type": "stream",
     "text": [
      "              precision    recall  f1-score   support\n",
      "\n",
      "    Negative       0.64      0.36      0.46       173\n",
      "    Positive       0.89      0.96      0.92       892\n",
      "\n",
      "    accuracy                           0.86      1065\n",
      "   macro avg       0.76      0.66      0.69      1065\n",
      "weighted avg       0.85      0.86      0.85      1065\n",
      "\n"
     ]
    }
   ],
   "source": [
    "# Print the confusion matrix\n",
    "conf_matrix = confusion_matrix(y_test, gxgb_preds)\n",
    "sns.heatmap(conf_matrix, annot=True,cmap='Blues', fmt=\"d\", xticklabels=['Negtive','Positive'], yticklabels=['Negtive','Neutral','Positive'])\n",
    "plt.ylabel('Actual')\n",
    "plt.xlabel('Predicted')\n",
    "plt.title(\"Confusion Matrix XGBoost\")\n",
    "plt.show()\n",
    "\n",
    "# Print the classification report\n",
    "print(classification_report(y_test, gxgb_preds,target_names=['Negative','Positive']))"
   ]
  },
  {
   "cell_type": "code",
   "execution_count": null,
   "id": "d45512f3",
   "metadata": {},
   "outputs": [],
   "source": [
    "#Binary deeplearning"
   ]
  },
  {
   "cell_type": "code",
   "execution_count": 319,
   "id": "b3e1875e",
   "metadata": {},
   "outputs": [],
   "source": [
    "tokenizer = Tokenizer()\n",
    "tokenizer.fit_on_texts(new_binary['Tweet'])\n",
    "X = tokenizer.texts_to_sequences(new_binary['Tweet'])\n"
   ]
  },
  {
   "cell_type": "code",
   "execution_count": 321,
   "id": "ce5d20de",
   "metadata": {},
   "outputs": [],
   "source": [
    "X_tfidf = tfidf_vectorizer.fit_transform(new_binary['Tweet'])"
   ]
  },
  {
   "cell_type": "code",
   "execution_count": 322,
   "id": "43e9f76d",
   "metadata": {},
   "outputs": [],
   "source": [
    "\n",
    "maxlen = 100\n",
    "X = pad_sequences(X, padding='post', maxlen=maxlen)"
   ]
  },
  {
   "cell_type": "code",
   "execution_count": 330,
   "id": "a00855bf",
   "metadata": {},
   "outputs": [],
   "source": [
    "X_tfidf = csr_matrix.toarray(X_tfidf)\n",
    "X_tfidf = pad_sequences(X_tfidf, padding='post', maxlen=maxlen)"
   ]
  },
  {
   "cell_type": "code",
   "execution_count": 331,
   "id": "f8801de7",
   "metadata": {},
   "outputs": [],
   "source": [
    "#Train test split\n",
    "X_train_tfidf, X_test_tfidf, y_train, y_test = train_test_split(X_tfidf, new_binary['Emotion'], test_size=0.2, random_state=42, stratify=new_binary['Emotion'])"
   ]
  },
  {
   "cell_type": "code",
   "execution_count": 332,
   "id": "38b9db14",
   "metadata": {},
   "outputs": [],
   "source": [
    "X_train_tfidf, y_train = ros.fit_resample(X_train_tfidf, y_train)"
   ]
  },
  {
   "cell_type": "code",
   "execution_count": 333,
   "id": "7f5a6069",
   "metadata": {},
   "outputs": [],
   "source": [
    "y_train_encoded = le.fit_transform(y_train)\n",
    "y_test_encoded = le.fit_transform(y_test)"
   ]
  },
  {
   "cell_type": "code",
   "execution_count": 334,
   "id": "7bc787c1",
   "metadata": {},
   "outputs": [
    {
     "name": "stdout",
     "output_type": "stream",
     "text": [
      "{0: 2382, 1: 2382}\n"
     ]
    }
   ],
   "source": [
    "unique, counts = np.unique(y_train_encoded, return_counts=True)\n",
    "print(dict(zip(unique, counts)))"
   ]
  },
  {
   "cell_type": "code",
   "execution_count": 335,
   "id": "f37ae652",
   "metadata": {},
   "outputs": [
    {
     "name": "stdout",
     "output_type": "stream",
     "text": [
      "Epoch 1/10\n",
      "38/38 [==============================] - 7s 194ms/step - loss: 0.7521 - accuracy: 0.2645 - val_loss: 0.9873 - val_accuracy: 0.0000e+00\n",
      "Epoch 2/10\n",
      "38/38 [==============================] - 7s 176ms/step - loss: 0.7520 - accuracy: 0.2565 - val_loss: 0.9873 - val_accuracy: 0.0000e+00\n",
      "Epoch 3/10\n",
      "38/38 [==============================] - 7s 191ms/step - loss: 0.7520 - accuracy: 0.2550 - val_loss: 0.9873 - val_accuracy: 0.1606\n",
      "Epoch 4/10\n",
      "38/38 [==============================] - 7s 192ms/step - loss: 0.7520 - accuracy: 0.2706 - val_loss: 0.9873 - val_accuracy: 0.0000e+00\n",
      "Epoch 5/10\n",
      "38/38 [==============================] - 8s 201ms/step - loss: 0.7520 - accuracy: 0.2968 - val_loss: 0.9873 - val_accuracy: 0.0000e+00\n",
      "Epoch 6/10\n",
      "38/38 [==============================] - 8s 209ms/step - loss: 0.7520 - accuracy: 0.2922 - val_loss: 0.9873 - val_accuracy: 0.1606\n",
      "Epoch 7/10\n",
      "38/38 [==============================] - 9s 234ms/step - loss: 0.7520 - accuracy: 0.4053 - val_loss: 0.9873 - val_accuracy: 0.8394\n",
      "Epoch 8/10\n",
      "38/38 [==============================] - 8s 208ms/step - loss: 0.7520 - accuracy: 0.4828 - val_loss: 0.9873 - val_accuracy: 0.0000e+00\n",
      "Epoch 9/10\n",
      "38/38 [==============================] - 9s 231ms/step - loss: 0.7520 - accuracy: 0.4482 - val_loss: 0.9873 - val_accuracy: 0.8394\n",
      "Epoch 10/10\n",
      "38/38 [==============================] - 9s 241ms/step - loss: 0.7520 - accuracy: 0.4702 - val_loss: 0.9873 - val_accuracy: 0.8394\n"
     ]
    },
    {
     "data": {
      "text/plain": [
       "<tensorflow.python.keras.callbacks.History at 0x7f8e0cb47f40>"
      ]
     },
     "execution_count": 335,
     "metadata": {},
     "output_type": "execute_result"
    }
   ],
   "source": [
    "model = Sequential()\n",
    "model.add(Embedding(input_dim=X_tfidf.shape[1], output_dim=128, input_length=maxlen))\n",
    "model.add(LSTM(128))\n",
    "model.add(Dense(3, activation='softmax'))\n",
    "model.compile(optimizer='adam', loss='binary_crossentropy', metrics=['accuracy'])\n",
    "\n",
    "model.fit(X_train_tfidf, y_train_encoded, validation_data=(X_test_tfidf, y_test_encoded), epochs=10, batch_size=128)"
   ]
  },
  {
   "cell_type": "code",
   "execution_count": 336,
   "id": "a3f86a76",
   "metadata": {},
   "outputs": [],
   "source": [
    "# Make predictions on the test set\n",
    "y_pred = model.predict(X_test_tfidf)\n",
    "\n",
    "# Convert the predictions from probabilities to class labels\n",
    "#y_pred = np.argmax(y_pred, axis=1)\n",
    "y_pred_classes = np.argmax(y_pred, axis=1)[:len(y_true)]\n",
    "\n",
    "y_true = y_test_encoded\n",
    "\n",
    "# Calculate the confusion matrix\n",
    "conf_matrix = confusion_matrix(y_true, y_pred_classes)"
   ]
  },
  {
   "cell_type": "code",
   "execution_count": 337,
   "id": "8b3594b2",
   "metadata": {},
   "outputs": [
    {
     "data": {
      "image/png": "[encoded data removed]",
      "text/plain": [
       "<Figure size 432x288 with 2 Axes>"
      ]
     },
     "metadata": {},
     "output_type": "display_data"
    },
    {
     "name": "stdout",
     "output_type": "stream",
     "text": [
      "              precision    recall  f1-score   support\n",
      "\n",
      "    Negative       0.00      0.00      0.00       114\n",
      "    Positive       0.84      1.00      0.91       596\n",
      "\n",
      "    accuracy                           0.84       710\n",
      "   macro avg       0.42      0.50      0.46       710\n",
      "weighted avg       0.70      0.84      0.77       710\n",
      "\n"
     ]
    },
    {
     "name": "stderr",
     "output_type": "stream",
     "text": [
      "/Users/a23/opt/anaconda3/envs/learn-env/lib/python3.8/site-packages/sklearn/metrics/_classification.py:1221: UndefinedMetricWarning: Precision and F-score are ill-defined and being set to 0.0 in labels with no predicted samples. Use `zero_division` parameter to control this behavior.\n",
      "  _warn_prf(average, modifier, msg_start, len(result))\n"
     ]
    }
   ],
   "source": [
    "# Plot the confusion matrix\n",
    "sns.heatmap(conf_matrix, annot=True, cmap='Blues', fmt=\"d\", xticklabels=['Negative','Positive'], yticklabels=['Negative','Neutral','Positive'])\n",
    "plt.ylabel('Actual')\n",
    "plt.xlabel('Predicted')\n",
    "plt.title(\"Confusion Matrix\")\n",
    "plt.show()\n",
    "\n",
    "# Print the classification report\n",
    "print(classification_report(y_true, y_pred_classes, target_names=['Negative','Positive']))"
   ]
  },
  {
   "cell_type": "code",
   "execution_count": 345,
   "id": "c8e2228d",
   "metadata": {},
   "outputs": [],
   "source": [
    "X = new_binary.drop(['Emotion'], axis=1)\n",
    "y = new_binary['Emotion']"
   ]
  },
  {
   "cell_type": "code",
   "execution_count": 351,
   "id": "dd4d6b33",
   "metadata": {},
   "outputs": [],
   "source": [
    "# Split the data into training and testing sets\n",
    "X_train, X_test, y_train, y_test = train_test_split(new_binary['Tweet'], new_binary['Emotion'],\n",
    "                             test_size=0.2,random_state=42, stratify=new_binary['Emotion'])\n"
   ]
  },
  {
   "cell_type": "code",
   "execution_count": 352,
   "id": "625fd470",
   "metadata": {},
   "outputs": [],
   "source": [
    "# Tokenize the text data\n",
    "tokenizer = Tokenizer(num_words=5000)\n",
    "tokenizer.fit_on_texts(X_train)"
   ]
  },
  {
   "cell_type": "code",
   "execution_count": 353,
   "id": "c6618aeb",
   "metadata": {},
   "outputs": [],
   "source": [
    "# Convert the text data to sequences\n",
    "X_train_seq = tokenizer.texts_to_sequences(X_train)\n",
    "X_test_seq = tokenizer.texts_to_sequences(X_test)"
   ]
  },
  {
   "cell_type": "code",
   "execution_count": 354,
   "id": "8d903789",
   "metadata": {},
   "outputs": [],
   "source": [
    "# Pad sequences to ensure equal length vectors\n",
    "X_train_padded = pad_sequences(X_train_seq, padding='post', maxlen=maxlen)\n",
    "X_test_padded = pad_sequences(X_test_seq, padding='post', maxlen=maxlen)"
   ]
  },
  {
   "cell_type": "code",
   "execution_count": 355,
   "id": "70dcab39",
   "metadata": {},
   "outputs": [],
   "source": [
    "X_train_resampled, y_train_resampled = ros.fit_resample(X_train_padded, y_train)"
   ]
  },
  {
   "cell_type": "code",
   "execution_count": 356,
   "id": "ece77def",
   "metadata": {},
   "outputs": [],
   "source": [
    "y_train_encoded = le.fit_transform(y_train_resampled)\n",
    "y_test_encoded = le.fit_transform(y_test)"
   ]
  },
  {
   "cell_type": "code",
   "execution_count": 357,
   "id": "599e8722",
   "metadata": {},
   "outputs": [],
   "source": [
    "# Define vocabulary size and maximum tweet length\n",
    "vocabulary_size = len(total_unique_words) + 1\n",
    "maxlen = max([len(tweet.split()) for tweet in new_binary['Tweet']])"
   ]
  },
  {
   "cell_type": "code",
   "execution_count": 362,
   "id": "7429619e",
   "metadata": {},
   "outputs": [],
   "source": [
    "# Create an embedding layer\n",
    "embedding_layer = Embedding(vocabulary_size, 50, weights=[embedding_matrix], input_length=100, trainable=False)"
   ]
  },
  {
   "cell_type": "code",
   "execution_count": 367,
   "id": "b44f0898",
   "metadata": {},
   "outputs": [
    {
     "name": "stdout",
     "output_type": "stream",
     "text": [
      "Epoch 1/10\n",
      "38/38 [==============================] - 8s 218ms/step - loss: 0.6931 - accuracy: 0.5115 - val_loss: 0.6931 - val_accuracy: 0.8394\n",
      "Epoch 2/10\n",
      "38/38 [==============================] - 8s 216ms/step - loss: 0.6931 - accuracy: 0.4981 - val_loss: 0.6931 - val_accuracy: 0.8394\n",
      "Epoch 3/10\n",
      "38/38 [==============================] - 10s 254ms/step - loss: 0.6931 - accuracy: 0.4891 - val_loss: 0.6931 - val_accuracy: 0.1606\n",
      "Epoch 4/10\n",
      "38/38 [==============================] - 14s 356ms/step - loss: 0.6931 - accuracy: 0.4914 - val_loss: 0.6931 - val_accuracy: 0.1606\n",
      "Epoch 5/10\n",
      "38/38 [==============================] - 13s 333ms/step - loss: 0.6931 - accuracy: 0.4962 - val_loss: 0.6931 - val_accuracy: 0.8394\n",
      "Epoch 6/10\n",
      "38/38 [==============================] - 9s 246ms/step - loss: 0.6931 - accuracy: 0.4973 - val_loss: 0.6931 - val_accuracy: 0.8394\n",
      "Epoch 7/10\n",
      "38/38 [==============================] - 10s 263ms/step - loss: 0.6931 - accuracy: 0.5031 - val_loss: 0.6931 - val_accuracy: 0.1606\n",
      "Epoch 8/10\n",
      "38/38 [==============================] - 10s 266ms/step - loss: 0.6931 - accuracy: 0.5073 - val_loss: 0.6931 - val_accuracy: 0.1606\n",
      "Epoch 9/10\n",
      "38/38 [==============================] - 9s 243ms/step - loss: 0.6931 - accuracy: 0.5073 - val_loss: 0.6931 - val_accuracy: 0.8394\n",
      "Epoch 10/10\n",
      "38/38 [==============================] - 9s 246ms/step - loss: 0.6931 - accuracy: 0.5048 - val_loss: 0.6931 - val_accuracy: 0.8394\n"
     ]
    },
    {
     "data": {
      "text/plain": [
       "<tensorflow.python.keras.callbacks.History at 0x7f8df7b67220>"
      ]
     },
     "execution_count": 367,
     "metadata": {},
     "output_type": "execute_result"
    }
   ],
   "source": [
    "w2_model = Sequential()\n",
    "w2_model.add(embedding_layer)\n",
    "w2_model.add(LSTM(128, dropout=0.2, recurrent_dropout=0.2))\n",
    "w2_model.add(Dense(2, activation='softmax'))\n",
    "w2_model.compile(optimizer='adam', loss='binary_crossentropy', metrics=['accuracy'])\n",
    "\n",
    "w2_model.fit(X_train_resampled, y_train_encoded, validation_data=(X_test_padded, y_test_encoded), epochs=10, batch_size=128)"
   ]
  },
  {
   "cell_type": "code",
   "execution_count": 368,
   "id": "9a048491",
   "metadata": {},
   "outputs": [
    {
     "name": "stdout",
     "output_type": "stream",
     "text": [
      "Model: \"sequential_35\"\n",
      "_________________________________________________________________\n",
      "Layer (type)                 Output Shape              Param #   \n",
      "=================================================================\n",
      "embedding_32 (Embedding)     (None, 100, 50)           430850    \n",
      "_________________________________________________________________\n",
      "lstm_32 (LSTM)               (None, 128)               91648     \n",
      "_________________________________________________________________\n",
      "dense_26 (Dense)             (None, 2)                 258       \n",
      "=================================================================\n",
      "Total params: 522,756\n",
      "Trainable params: 91,906\n",
      "Non-trainable params: 430,850\n",
      "_________________________________________________________________\n"
     ]
    }
   ],
   "source": [
    "w2_model.summary()"
   ]
  },
  {
   "cell_type": "code",
   "execution_count": 369,
   "id": "59098c39",
   "metadata": {},
   "outputs": [],
   "source": [
    "# Make predictions on the test set\n",
    "y_pred = w2_model.predict(X_test_padded)\n",
    "\n",
    "# Convert the predictions from probabilities to class labels\n",
    "\n",
    "y_pred_classes = np.argmax(y_pred, axis=1)[:len(y_true)]\n",
    "\n",
    "y_true = y_test_encoded\n",
    "\n",
    "# Calculate the confusion matrix\n",
    "conf_matrix = confusion_matrix(y_true, y_pred_classes)"
   ]
  },
  {
   "cell_type": "code",
   "execution_count": 370,
   "id": "680e72de",
   "metadata": {},
   "outputs": [
    {
     "data": {
      "image/png": "[encoded data removed]",
      "text/plain": [
       "<Figure size 432x288 with 2 Axes>"
      ]
     },
     "metadata": {},
     "output_type": "display_data"
    },
    {
     "name": "stdout",
     "output_type": "stream",
     "text": [
      "              precision    recall  f1-score   support\n",
      "\n",
      "    Negative       0.00      0.00      0.00       114\n",
      "    Positive       0.84      1.00      0.91       596\n",
      "\n",
      "    accuracy                           0.84       710\n",
      "   macro avg       0.42      0.50      0.46       710\n",
      "weighted avg       0.70      0.84      0.77       710\n",
      "\n"
     ]
    }
   ],
   "source": [
    "# Plot the confusion matrix\n",
    "sns.heatmap(conf_matrix, annot=True, cmap='Blues', fmt=\"d\", xticklabels=['Negative','Positive'], yticklabels=['Negative','Positive'])\n",
    "plt.ylabel('Actual')\n",
    "plt.xlabel('Predicted')\n",
    "plt.title(\"Confusion Matrix\")\n",
    "plt.show()\n",
    "\n",
    "# Print the classification report\n",
    "print(classification_report(y_true, y_pred_classes, target_names=['Negative','Positive']))"
   ]
  },
  {
   "cell_type": "code",
   "execution_count": null,
   "id": "ba00d233",
   "metadata": {},
   "outputs": [],
   "source": [
    "#Feature Importance:"
   ]
  }
 ],
 "metadata": {
  "kernelspec": {
   "display_name": "Python (learn-env)",
   "language": "python",
   "name": "learn-env"
  },
  "language_info": {
   "codemirror_mode": {
    "name": "ipython",
    "version": 3
   },
   "file_extension": ".py",
   "mimetype": "text/x-python",
   "name": "python",
   "nbconvert_exporter": "python",
   "pygments_lexer": "ipython3",
   "version": "3.8.5"
  }
 },
 "nbformat": 4,
 "nbformat_minor": 5
}
